{
  "nbformat": 4,
  "nbformat_minor": 0,
  "metadata": {
    "colab": {
      "name": "Predict Boston House Prices.ipynb",
      "provenance": [],
      "collapsed_sections": []
    },
    "kernelspec": {
      "name": "python3",
      "display_name": "Python 3"
    },
    "accelerator": "GPU"
  },
  "cells": [
    {
      "cell_type": "markdown",
      "metadata": {
        "id": "puzLxQgw_NzL",
        "colab_type": "text"
      },
      "source": [
        "# Project: Predict Boston House Prices\n",
        "\n",
        "\n",
        "\n",
        "\n"
      ]
    },
    {
      "cell_type": "markdown",
      "metadata": {
        "id": "CsmEjedy0xMA",
        "colab_type": "text"
      },
      "source": [
        "This project aims to predict the house pricing in Boston by building models. \n",
        "By exploring the correlations of related factors and house pricing in Boston, we could predict the price. Then, we could help our customers to know an approximate price based the related facotrs, such as crime rate and average number of rooms per dwelling. Also, we could help customers to find the related information of the housing environment based on the house price. These all depend on the needs of customers. We could use our model and analytics to find the what customers want without customer investigation in order to provide customers the convience and appeal to more customers. "
      ]
    },
    {
      "cell_type": "markdown",
      "metadata": {
        "id": "iQqmQwuD_sSm",
        "colab_type": "text"
      },
      "source": [
        "## Getting Started"
      ]
    },
    {
      "cell_type": "markdown",
      "metadata": {
        "id": "PhHDEcvsABNc",
        "colab_type": "text"
      },
      "source": [
        "In this project, I will evaluate the performance and predictive power of a model that has been trained and tested on data from Boston Housing dataset loaded from sklearn. A model trained on this data that is seen as a good fit could then be used to make certain predictions about a home — in particular, its monetary value. This model would prove to be invaluable for someone like a real estate agent who could make use of such information on a daily basis."
      ]
    },
    {
      "cell_type": "code",
      "metadata": {
        "id": "pfl-TzZAP9DK",
        "colab_type": "code",
        "colab": {}
      },
      "source": [
        "import numpy as np\n",
        "import matplotlib.pyplot as plt \n",
        "import pandas as pd  \n",
        "import seaborn as sns \n",
        "\n",
        "%matplotlib inline\n",
        "import numpy as np\n",
        "from scipy.stats import randint as sp_randint\n",
        "from scipy.stats import uniform as sp_uniform\n",
        " \n",
        "from sklearn.datasets import load_boston\n",
        "from sklearn.model_selection import (cross_val_score, train_test_split, \n",
        "                                     GridSearchCV, RandomizedSearchCV)\n",
        "from sklearn.metrics import r2_score"
      ],
      "execution_count": 0,
      "outputs": []
    },
    {
      "cell_type": "code",
      "metadata": {
        "id": "0CmyxXSfWxAs",
        "colab_type": "code",
        "outputId": "8f0127c1-de45-422f-9879-08697143855a",
        "colab": {
          "base_uri": "https://localhost:8080/",
          "height": 34
        }
      },
      "source": [
        "## load the boston dataset from sklearn\n",
        "boston_dataset = load_boston()\n",
        "\n",
        "## check what the boston dataset contains\n",
        "print(boston_dataset.keys())"
      ],
      "execution_count": 0,
      "outputs": [
        {
          "output_type": "stream",
          "text": [
            "dict_keys(['data', 'target', 'feature_names', 'DESCR', 'filename'])\n"
          ],
          "name": "stdout"
        }
      ]
    },
    {
      "cell_type": "code",
      "metadata": {
        "id": "RaqFLO0RW0RM",
        "colab_type": "code",
        "outputId": "dfa16407-6da8-45f6-d25f-f748acc74902",
        "colab": {
          "base_uri": "https://localhost:8080/",
          "height": 904
        }
      },
      "source": [
        "print(boston_dataset.DESCR)"
      ],
      "execution_count": 0,
      "outputs": [
        {
          "output_type": "stream",
          "text": [
            ".. _boston_dataset:\n",
            "\n",
            "Boston house prices dataset\n",
            "---------------------------\n",
            "\n",
            "**Data Set Characteristics:**  \n",
            "\n",
            "    :Number of Instances: 506 \n",
            "\n",
            "    :Number of Attributes: 13 numeric/categorical predictive. Median Value (attribute 14) is usually the target.\n",
            "\n",
            "    :Attribute Information (in order):\n",
            "        - CRIM     per capita crime rate by town\n",
            "        - ZN       proportion of residential land zoned for lots over 25,000 sq.ft.\n",
            "        - INDUS    proportion of non-retail business acres per town\n",
            "        - CHAS     Charles River dummy variable (= 1 if tract bounds river; 0 otherwise)\n",
            "        - NOX      nitric oxides concentration (parts per 10 million)\n",
            "        - RM       average number of rooms per dwelling\n",
            "        - AGE      proportion of owner-occupied units built prior to 1940\n",
            "        - DIS      weighted distances to five Boston employment centres\n",
            "        - RAD      index of accessibility to radial highways\n",
            "        - TAX      full-value property-tax rate per $10,000\n",
            "        - PTRATIO  pupil-teacher ratio by town\n",
            "        - B        1000(Bk - 0.63)^2 where Bk is the proportion of blacks by town\n",
            "        - LSTAT    % lower status of the population\n",
            "        - MEDV     Median value of owner-occupied homes in $1000's\n",
            "\n",
            "    :Missing Attribute Values: None\n",
            "\n",
            "    :Creator: Harrison, D. and Rubinfeld, D.L.\n",
            "\n",
            "This is a copy of UCI ML housing dataset.\n",
            "https://archive.ics.uci.edu/ml/machine-learning-databases/housing/\n",
            "\n",
            "\n",
            "This dataset was taken from the StatLib library which is maintained at Carnegie Mellon University.\n",
            "\n",
            "The Boston house-price data of Harrison, D. and Rubinfeld, D.L. 'Hedonic\n",
            "prices and the demand for clean air', J. Environ. Economics & Management,\n",
            "vol.5, 81-102, 1978.   Used in Belsley, Kuh & Welsch, 'Regression diagnostics\n",
            "...', Wiley, 1980.   N.B. Various transformations are used in the table on\n",
            "pages 244-261 of the latter.\n",
            "\n",
            "The Boston house-price data has been used in many machine learning papers that address regression\n",
            "problems.   \n",
            "     \n",
            ".. topic:: References\n",
            "\n",
            "   - Belsley, Kuh & Welsch, 'Regression diagnostics: Identifying Influential Data and Sources of Collinearity', Wiley, 1980. 244-261.\n",
            "   - Quinlan,R. (1993). Combining Instance-Based and Model-Based Learning. In Proceedings on the Tenth International Conference of Machine Learning, 236-243, University of Massachusetts, Amherst. Morgan Kaufmann.\n",
            "\n"
          ],
          "name": "stdout"
        }
      ]
    },
    {
      "cell_type": "code",
      "metadata": {
        "id": "AaXHc5hyW42i",
        "colab_type": "code",
        "outputId": "c3a2df6e-6da3-44b6-cf4a-bf6923752883",
        "colab": {
          "base_uri": "https://localhost:8080/",
          "height": 1000
        }
      },
      "source": [
        "print(boston_dataset)"
      ],
      "execution_count": 0,
      "outputs": [
        {
          "output_type": "stream",
          "text": [
            "{'data': array([[6.3200e-03, 1.8000e+01, 2.3100e+00, ..., 1.5300e+01, 3.9690e+02,\n",
            "        4.9800e+00],\n",
            "       [2.7310e-02, 0.0000e+00, 7.0700e+00, ..., 1.7800e+01, 3.9690e+02,\n",
            "        9.1400e+00],\n",
            "       [2.7290e-02, 0.0000e+00, 7.0700e+00, ..., 1.7800e+01, 3.9283e+02,\n",
            "        4.0300e+00],\n",
            "       ...,\n",
            "       [6.0760e-02, 0.0000e+00, 1.1930e+01, ..., 2.1000e+01, 3.9690e+02,\n",
            "        5.6400e+00],\n",
            "       [1.0959e-01, 0.0000e+00, 1.1930e+01, ..., 2.1000e+01, 3.9345e+02,\n",
            "        6.4800e+00],\n",
            "       [4.7410e-02, 0.0000e+00, 1.1930e+01, ..., 2.1000e+01, 3.9690e+02,\n",
            "        7.8800e+00]]), 'target': array([24. , 21.6, 34.7, 33.4, 36.2, 28.7, 22.9, 27.1, 16.5, 18.9, 15. ,\n",
            "       18.9, 21.7, 20.4, 18.2, 19.9, 23.1, 17.5, 20.2, 18.2, 13.6, 19.6,\n",
            "       15.2, 14.5, 15.6, 13.9, 16.6, 14.8, 18.4, 21. , 12.7, 14.5, 13.2,\n",
            "       13.1, 13.5, 18.9, 20. , 21. , 24.7, 30.8, 34.9, 26.6, 25.3, 24.7,\n",
            "       21.2, 19.3, 20. , 16.6, 14.4, 19.4, 19.7, 20.5, 25. , 23.4, 18.9,\n",
            "       35.4, 24.7, 31.6, 23.3, 19.6, 18.7, 16. , 22.2, 25. , 33. , 23.5,\n",
            "       19.4, 22. , 17.4, 20.9, 24.2, 21.7, 22.8, 23.4, 24.1, 21.4, 20. ,\n",
            "       20.8, 21.2, 20.3, 28. , 23.9, 24.8, 22.9, 23.9, 26.6, 22.5, 22.2,\n",
            "       23.6, 28.7, 22.6, 22. , 22.9, 25. , 20.6, 28.4, 21.4, 38.7, 43.8,\n",
            "       33.2, 27.5, 26.5, 18.6, 19.3, 20.1, 19.5, 19.5, 20.4, 19.8, 19.4,\n",
            "       21.7, 22.8, 18.8, 18.7, 18.5, 18.3, 21.2, 19.2, 20.4, 19.3, 22. ,\n",
            "       20.3, 20.5, 17.3, 18.8, 21.4, 15.7, 16.2, 18. , 14.3, 19.2, 19.6,\n",
            "       23. , 18.4, 15.6, 18.1, 17.4, 17.1, 13.3, 17.8, 14. , 14.4, 13.4,\n",
            "       15.6, 11.8, 13.8, 15.6, 14.6, 17.8, 15.4, 21.5, 19.6, 15.3, 19.4,\n",
            "       17. , 15.6, 13.1, 41.3, 24.3, 23.3, 27. , 50. , 50. , 50. , 22.7,\n",
            "       25. , 50. , 23.8, 23.8, 22.3, 17.4, 19.1, 23.1, 23.6, 22.6, 29.4,\n",
            "       23.2, 24.6, 29.9, 37.2, 39.8, 36.2, 37.9, 32.5, 26.4, 29.6, 50. ,\n",
            "       32. , 29.8, 34.9, 37. , 30.5, 36.4, 31.1, 29.1, 50. , 33.3, 30.3,\n",
            "       34.6, 34.9, 32.9, 24.1, 42.3, 48.5, 50. , 22.6, 24.4, 22.5, 24.4,\n",
            "       20. , 21.7, 19.3, 22.4, 28.1, 23.7, 25. , 23.3, 28.7, 21.5, 23. ,\n",
            "       26.7, 21.7, 27.5, 30.1, 44.8, 50. , 37.6, 31.6, 46.7, 31.5, 24.3,\n",
            "       31.7, 41.7, 48.3, 29. , 24. , 25.1, 31.5, 23.7, 23.3, 22. , 20.1,\n",
            "       22.2, 23.7, 17.6, 18.5, 24.3, 20.5, 24.5, 26.2, 24.4, 24.8, 29.6,\n",
            "       42.8, 21.9, 20.9, 44. , 50. , 36. , 30.1, 33.8, 43.1, 48.8, 31. ,\n",
            "       36.5, 22.8, 30.7, 50. , 43.5, 20.7, 21.1, 25.2, 24.4, 35.2, 32.4,\n",
            "       32. , 33.2, 33.1, 29.1, 35.1, 45.4, 35.4, 46. , 50. , 32.2, 22. ,\n",
            "       20.1, 23.2, 22.3, 24.8, 28.5, 37.3, 27.9, 23.9, 21.7, 28.6, 27.1,\n",
            "       20.3, 22.5, 29. , 24.8, 22. , 26.4, 33.1, 36.1, 28.4, 33.4, 28.2,\n",
            "       22.8, 20.3, 16.1, 22.1, 19.4, 21.6, 23.8, 16.2, 17.8, 19.8, 23.1,\n",
            "       21. , 23.8, 23.1, 20.4, 18.5, 25. , 24.6, 23. , 22.2, 19.3, 22.6,\n",
            "       19.8, 17.1, 19.4, 22.2, 20.7, 21.1, 19.5, 18.5, 20.6, 19. , 18.7,\n",
            "       32.7, 16.5, 23.9, 31.2, 17.5, 17.2, 23.1, 24.5, 26.6, 22.9, 24.1,\n",
            "       18.6, 30.1, 18.2, 20.6, 17.8, 21.7, 22.7, 22.6, 25. , 19.9, 20.8,\n",
            "       16.8, 21.9, 27.5, 21.9, 23.1, 50. , 50. , 50. , 50. , 50. , 13.8,\n",
            "       13.8, 15. , 13.9, 13.3, 13.1, 10.2, 10.4, 10.9, 11.3, 12.3,  8.8,\n",
            "        7.2, 10.5,  7.4, 10.2, 11.5, 15.1, 23.2,  9.7, 13.8, 12.7, 13.1,\n",
            "       12.5,  8.5,  5. ,  6.3,  5.6,  7.2, 12.1,  8.3,  8.5,  5. , 11.9,\n",
            "       27.9, 17.2, 27.5, 15. , 17.2, 17.9, 16.3,  7. ,  7.2,  7.5, 10.4,\n",
            "        8.8,  8.4, 16.7, 14.2, 20.8, 13.4, 11.7,  8.3, 10.2, 10.9, 11. ,\n",
            "        9.5, 14.5, 14.1, 16.1, 14.3, 11.7, 13.4,  9.6,  8.7,  8.4, 12.8,\n",
            "       10.5, 17.1, 18.4, 15.4, 10.8, 11.8, 14.9, 12.6, 14.1, 13. , 13.4,\n",
            "       15.2, 16.1, 17.8, 14.9, 14.1, 12.7, 13.5, 14.9, 20. , 16.4, 17.7,\n",
            "       19.5, 20.2, 21.4, 19.9, 19. , 19.1, 19.1, 20.1, 19.9, 19.6, 23.2,\n",
            "       29.8, 13.8, 13.3, 16.7, 12. , 14.6, 21.4, 23. , 23.7, 25. , 21.8,\n",
            "       20.6, 21.2, 19.1, 20.6, 15.2,  7. ,  8.1, 13.6, 20.1, 21.8, 24.5,\n",
            "       23.1, 19.7, 18.3, 21.2, 17.5, 16.8, 22.4, 20.6, 23.9, 22. , 11.9]), 'feature_names': array(['CRIM', 'ZN', 'INDUS', 'CHAS', 'NOX', 'RM', 'AGE', 'DIS', 'RAD',\n",
            "       'TAX', 'PTRATIO', 'B', 'LSTAT'], dtype='<U7'), 'DESCR': \".. _boston_dataset:\\n\\nBoston house prices dataset\\n---------------------------\\n\\n**Data Set Characteristics:**  \\n\\n    :Number of Instances: 506 \\n\\n    :Number of Attributes: 13 numeric/categorical predictive. Median Value (attribute 14) is usually the target.\\n\\n    :Attribute Information (in order):\\n        - CRIM     per capita crime rate by town\\n        - ZN       proportion of residential land zoned for lots over 25,000 sq.ft.\\n        - INDUS    proportion of non-retail business acres per town\\n        - CHAS     Charles River dummy variable (= 1 if tract bounds river; 0 otherwise)\\n        - NOX      nitric oxides concentration (parts per 10 million)\\n        - RM       average number of rooms per dwelling\\n        - AGE      proportion of owner-occupied units built prior to 1940\\n        - DIS      weighted distances to five Boston employment centres\\n        - RAD      index of accessibility to radial highways\\n        - TAX      full-value property-tax rate per $10,000\\n        - PTRATIO  pupil-teacher ratio by town\\n        - B        1000(Bk - 0.63)^2 where Bk is the proportion of blacks by town\\n        - LSTAT    % lower status of the population\\n        - MEDV     Median value of owner-occupied homes in $1000's\\n\\n    :Missing Attribute Values: None\\n\\n    :Creator: Harrison, D. and Rubinfeld, D.L.\\n\\nThis is a copy of UCI ML housing dataset.\\nhttps://archive.ics.uci.edu/ml/machine-learning-databases/housing/\\n\\n\\nThis dataset was taken from the StatLib library which is maintained at Carnegie Mellon University.\\n\\nThe Boston house-price data of Harrison, D. and Rubinfeld, D.L. 'Hedonic\\nprices and the demand for clean air', J. Environ. Economics & Management,\\nvol.5, 81-102, 1978.   Used in Belsley, Kuh & Welsch, 'Regression diagnostics\\n...', Wiley, 1980.   N.B. Various transformations are used in the table on\\npages 244-261 of the latter.\\n\\nThe Boston house-price data has been used in many machine learning papers that address regression\\nproblems.   \\n     \\n.. topic:: References\\n\\n   - Belsley, Kuh & Welsch, 'Regression diagnostics: Identifying Influential Data and Sources of Collinearity', Wiley, 1980. 244-261.\\n   - Quinlan,R. (1993). Combining Instance-Based and Model-Based Learning. In Proceedings on the Tenth International Conference of Machine Learning, 236-243, University of Massachusetts, Amherst. Morgan Kaufmann.\\n\", 'filename': '/usr/local/lib/python3.6/dist-packages/sklearn/datasets/data/boston_house_prices.csv'}\n"
          ],
          "name": "stdout"
        }
      ]
    },
    {
      "cell_type": "markdown",
      "metadata": {
        "id": "sfX_lbLtA21Y",
        "colab_type": "text"
      },
      "source": [
        "## Data Exploration and Preprocessing"
      ]
    },
    {
      "cell_type": "markdown",
      "metadata": {
        "id": "zXXSIFy9A9NR",
        "colab_type": "text"
      },
      "source": [
        "In this first section of this project, I will make a cursory investigation about the Boston housing data and provide my observations. Familiarizing with the data through an explorative process is a fundamental practice to help me better understand and justify my results.\n",
        "\n",
        "Since the main goal of this project is to construct a working model which has the capability of predicting the value of houses, we will need to separate the dataset into features and the target variable. The features, 'CRIM', 'ZN', 'INDUS', 'CHAS', 'NOX', 'RM', 'AGE', 'DIS', 'RAD', 'TAX', 'PTRATIO', 'B', and 'LSTAT', give us quantitative information about each data point. The target variable, 'MEDV', will be the variable we seek to predict. These are stored in features and prices, respectively.\n",
        "\n",
        "And we need to observe features to check if dataset has missing values or other characteristics so that we can preprocess and clean the data to build models."
      ]
    },
    {
      "cell_type": "code",
      "metadata": {
        "id": "-Ij3wYexW_Mb",
        "colab_type": "code",
        "colab": {}
      },
      "source": [
        "boston = pd.DataFrame(boston_dataset.data, columns=boston_dataset.feature_names)\n",
        "boston['MEDV'] = boston_dataset.target"
      ],
      "execution_count": 0,
      "outputs": []
    },
    {
      "cell_type": "code",
      "metadata": {
        "id": "rTaMneR1YOva",
        "colab_type": "code",
        "outputId": "7a3c5d2e-2972-4b30-cac0-2ab8993c3716",
        "colab": {
          "base_uri": "https://localhost:8080/",
          "height": 255
        }
      },
      "source": [
        "print(boston)"
      ],
      "execution_count": 0,
      "outputs": [
        {
          "output_type": "stream",
          "text": [
            "        CRIM    ZN  INDUS  CHAS    NOX  ...    TAX  PTRATIO       B  LSTAT  MEDV\n",
            "0    0.00632  18.0   2.31   0.0  0.538  ...  296.0     15.3  396.90   4.98  24.0\n",
            "1    0.02731   0.0   7.07   0.0  0.469  ...  242.0     17.8  396.90   9.14  21.6\n",
            "2    0.02729   0.0   7.07   0.0  0.469  ...  242.0     17.8  392.83   4.03  34.7\n",
            "3    0.03237   0.0   2.18   0.0  0.458  ...  222.0     18.7  394.63   2.94  33.4\n",
            "4    0.06905   0.0   2.18   0.0  0.458  ...  222.0     18.7  396.90   5.33  36.2\n",
            "..       ...   ...    ...   ...    ...  ...    ...      ...     ...    ...   ...\n",
            "501  0.06263   0.0  11.93   0.0  0.573  ...  273.0     21.0  391.99   9.67  22.4\n",
            "502  0.04527   0.0  11.93   0.0  0.573  ...  273.0     21.0  396.90   9.08  20.6\n",
            "503  0.06076   0.0  11.93   0.0  0.573  ...  273.0     21.0  396.90   5.64  23.9\n",
            "504  0.10959   0.0  11.93   0.0  0.573  ...  273.0     21.0  393.45   6.48  22.0\n",
            "505  0.04741   0.0  11.93   0.0  0.573  ...  273.0     21.0  396.90   7.88  11.9\n",
            "\n",
            "[506 rows x 14 columns]\n"
          ],
          "name": "stdout"
        }
      ]
    },
    {
      "cell_type": "code",
      "metadata": {
        "id": "clIXS3KbYPZm",
        "colab_type": "code",
        "outputId": "048f99d8-20e8-4f82-ca10-d2163f6ce9f6",
        "colab": {
          "base_uri": "https://localhost:8080/",
          "height": 272
        }
      },
      "source": [
        "boston.isnull().sum()"
      ],
      "execution_count": 0,
      "outputs": [
        {
          "output_type": "execute_result",
          "data": {
            "text/plain": [
              "CRIM       0\n",
              "ZN         0\n",
              "INDUS      0\n",
              "CHAS       0\n",
              "NOX        0\n",
              "RM         0\n",
              "AGE        0\n",
              "DIS        0\n",
              "RAD        0\n",
              "TAX        0\n",
              "PTRATIO    0\n",
              "B          0\n",
              "LSTAT      0\n",
              "MEDV       0\n",
              "dtype: int64"
            ]
          },
          "metadata": {
            "tags": []
          },
          "execution_count": 8
        }
      ]
    },
    {
      "cell_type": "code",
      "metadata": {
        "id": "aneZeXfyYwl9",
        "colab_type": "code",
        "outputId": "1cd9a094-8a83-49a3-88ea-bf744f3bb34c",
        "colab": {
          "base_uri": "https://localhost:8080/",
          "height": 272
        }
      },
      "source": [
        "boston.dtypes"
      ],
      "execution_count": 0,
      "outputs": [
        {
          "output_type": "execute_result",
          "data": {
            "text/plain": [
              "CRIM       float64\n",
              "ZN         float64\n",
              "INDUS      float64\n",
              "CHAS       float64\n",
              "NOX        float64\n",
              "RM         float64\n",
              "AGE        float64\n",
              "DIS        float64\n",
              "RAD        float64\n",
              "TAX        float64\n",
              "PTRATIO    float64\n",
              "B          float64\n",
              "LSTAT      float64\n",
              "MEDV       float64\n",
              "dtype: object"
            ]
          },
          "metadata": {
            "tags": []
          },
          "execution_count": 9
        }
      ]
    },
    {
      "cell_type": "code",
      "metadata": {
        "id": "80YvdrM3ZVSX",
        "colab_type": "code",
        "outputId": "14692571-376a-4eb2-c068-2917833e2dc0",
        "colab": {
          "base_uri": "https://localhost:8080/",
          "height": 483
        }
      },
      "source": [
        "boston.describe().T"
      ],
      "execution_count": 0,
      "outputs": [
        {
          "output_type": "execute_result",
          "data": {
            "text/html": [
              "<div>\n",
              "<style scoped>\n",
              "    .dataframe tbody tr th:only-of-type {\n",
              "        vertical-align: middle;\n",
              "    }\n",
              "\n",
              "    .dataframe tbody tr th {\n",
              "        vertical-align: top;\n",
              "    }\n",
              "\n",
              "    .dataframe thead th {\n",
              "        text-align: right;\n",
              "    }\n",
              "</style>\n",
              "<table border=\"1\" class=\"dataframe\">\n",
              "  <thead>\n",
              "    <tr style=\"text-align: right;\">\n",
              "      <th></th>\n",
              "      <th>count</th>\n",
              "      <th>mean</th>\n",
              "      <th>std</th>\n",
              "      <th>min</th>\n",
              "      <th>25%</th>\n",
              "      <th>50%</th>\n",
              "      <th>75%</th>\n",
              "      <th>max</th>\n",
              "    </tr>\n",
              "  </thead>\n",
              "  <tbody>\n",
              "    <tr>\n",
              "      <th>CRIM</th>\n",
              "      <td>506.0</td>\n",
              "      <td>3.613524</td>\n",
              "      <td>8.601545</td>\n",
              "      <td>0.00632</td>\n",
              "      <td>0.082045</td>\n",
              "      <td>0.25651</td>\n",
              "      <td>3.677083</td>\n",
              "      <td>88.9762</td>\n",
              "    </tr>\n",
              "    <tr>\n",
              "      <th>ZN</th>\n",
              "      <td>506.0</td>\n",
              "      <td>11.363636</td>\n",
              "      <td>23.322453</td>\n",
              "      <td>0.00000</td>\n",
              "      <td>0.000000</td>\n",
              "      <td>0.00000</td>\n",
              "      <td>12.500000</td>\n",
              "      <td>100.0000</td>\n",
              "    </tr>\n",
              "    <tr>\n",
              "      <th>INDUS</th>\n",
              "      <td>506.0</td>\n",
              "      <td>11.136779</td>\n",
              "      <td>6.860353</td>\n",
              "      <td>0.46000</td>\n",
              "      <td>5.190000</td>\n",
              "      <td>9.69000</td>\n",
              "      <td>18.100000</td>\n",
              "      <td>27.7400</td>\n",
              "    </tr>\n",
              "    <tr>\n",
              "      <th>CHAS</th>\n",
              "      <td>506.0</td>\n",
              "      <td>0.069170</td>\n",
              "      <td>0.253994</td>\n",
              "      <td>0.00000</td>\n",
              "      <td>0.000000</td>\n",
              "      <td>0.00000</td>\n",
              "      <td>0.000000</td>\n",
              "      <td>1.0000</td>\n",
              "    </tr>\n",
              "    <tr>\n",
              "      <th>NOX</th>\n",
              "      <td>506.0</td>\n",
              "      <td>0.554695</td>\n",
              "      <td>0.115878</td>\n",
              "      <td>0.38500</td>\n",
              "      <td>0.449000</td>\n",
              "      <td>0.53800</td>\n",
              "      <td>0.624000</td>\n",
              "      <td>0.8710</td>\n",
              "    </tr>\n",
              "    <tr>\n",
              "      <th>RM</th>\n",
              "      <td>506.0</td>\n",
              "      <td>6.284634</td>\n",
              "      <td>0.702617</td>\n",
              "      <td>3.56100</td>\n",
              "      <td>5.885500</td>\n",
              "      <td>6.20850</td>\n",
              "      <td>6.623500</td>\n",
              "      <td>8.7800</td>\n",
              "    </tr>\n",
              "    <tr>\n",
              "      <th>AGE</th>\n",
              "      <td>506.0</td>\n",
              "      <td>68.574901</td>\n",
              "      <td>28.148861</td>\n",
              "      <td>2.90000</td>\n",
              "      <td>45.025000</td>\n",
              "      <td>77.50000</td>\n",
              "      <td>94.075000</td>\n",
              "      <td>100.0000</td>\n",
              "    </tr>\n",
              "    <tr>\n",
              "      <th>DIS</th>\n",
              "      <td>506.0</td>\n",
              "      <td>3.795043</td>\n",
              "      <td>2.105710</td>\n",
              "      <td>1.12960</td>\n",
              "      <td>2.100175</td>\n",
              "      <td>3.20745</td>\n",
              "      <td>5.188425</td>\n",
              "      <td>12.1265</td>\n",
              "    </tr>\n",
              "    <tr>\n",
              "      <th>RAD</th>\n",
              "      <td>506.0</td>\n",
              "      <td>9.549407</td>\n",
              "      <td>8.707259</td>\n",
              "      <td>1.00000</td>\n",
              "      <td>4.000000</td>\n",
              "      <td>5.00000</td>\n",
              "      <td>24.000000</td>\n",
              "      <td>24.0000</td>\n",
              "    </tr>\n",
              "    <tr>\n",
              "      <th>TAX</th>\n",
              "      <td>506.0</td>\n",
              "      <td>408.237154</td>\n",
              "      <td>168.537116</td>\n",
              "      <td>187.00000</td>\n",
              "      <td>279.000000</td>\n",
              "      <td>330.00000</td>\n",
              "      <td>666.000000</td>\n",
              "      <td>711.0000</td>\n",
              "    </tr>\n",
              "    <tr>\n",
              "      <th>PTRATIO</th>\n",
              "      <td>506.0</td>\n",
              "      <td>18.455534</td>\n",
              "      <td>2.164946</td>\n",
              "      <td>12.60000</td>\n",
              "      <td>17.400000</td>\n",
              "      <td>19.05000</td>\n",
              "      <td>20.200000</td>\n",
              "      <td>22.0000</td>\n",
              "    </tr>\n",
              "    <tr>\n",
              "      <th>B</th>\n",
              "      <td>506.0</td>\n",
              "      <td>356.674032</td>\n",
              "      <td>91.294864</td>\n",
              "      <td>0.32000</td>\n",
              "      <td>375.377500</td>\n",
              "      <td>391.44000</td>\n",
              "      <td>396.225000</td>\n",
              "      <td>396.9000</td>\n",
              "    </tr>\n",
              "    <tr>\n",
              "      <th>LSTAT</th>\n",
              "      <td>506.0</td>\n",
              "      <td>12.653063</td>\n",
              "      <td>7.141062</td>\n",
              "      <td>1.73000</td>\n",
              "      <td>6.950000</td>\n",
              "      <td>11.36000</td>\n",
              "      <td>16.955000</td>\n",
              "      <td>37.9700</td>\n",
              "    </tr>\n",
              "    <tr>\n",
              "      <th>MEDV</th>\n",
              "      <td>506.0</td>\n",
              "      <td>22.532806</td>\n",
              "      <td>9.197104</td>\n",
              "      <td>5.00000</td>\n",
              "      <td>17.025000</td>\n",
              "      <td>21.20000</td>\n",
              "      <td>25.000000</td>\n",
              "      <td>50.0000</td>\n",
              "    </tr>\n",
              "  </tbody>\n",
              "</table>\n",
              "</div>"
            ],
            "text/plain": [
              "         count        mean         std  ...        50%         75%       max\n",
              "CRIM     506.0    3.613524    8.601545  ...    0.25651    3.677083   88.9762\n",
              "ZN       506.0   11.363636   23.322453  ...    0.00000   12.500000  100.0000\n",
              "INDUS    506.0   11.136779    6.860353  ...    9.69000   18.100000   27.7400\n",
              "CHAS     506.0    0.069170    0.253994  ...    0.00000    0.000000    1.0000\n",
              "NOX      506.0    0.554695    0.115878  ...    0.53800    0.624000    0.8710\n",
              "RM       506.0    6.284634    0.702617  ...    6.20850    6.623500    8.7800\n",
              "AGE      506.0   68.574901   28.148861  ...   77.50000   94.075000  100.0000\n",
              "DIS      506.0    3.795043    2.105710  ...    3.20745    5.188425   12.1265\n",
              "RAD      506.0    9.549407    8.707259  ...    5.00000   24.000000   24.0000\n",
              "TAX      506.0  408.237154  168.537116  ...  330.00000  666.000000  711.0000\n",
              "PTRATIO  506.0   18.455534    2.164946  ...   19.05000   20.200000   22.0000\n",
              "B        506.0  356.674032   91.294864  ...  391.44000  396.225000  396.9000\n",
              "LSTAT    506.0   12.653063    7.141062  ...   11.36000   16.955000   37.9700\n",
              "MEDV     506.0   22.532806    9.197104  ...   21.20000   25.000000   50.0000\n",
              "\n",
              "[14 rows x 8 columns]"
            ]
          },
          "metadata": {
            "tags": []
          },
          "execution_count": 10
        }
      ]
    },
    {
      "cell_type": "code",
      "metadata": {
        "id": "ZVXCH8Ubgla2",
        "colab_type": "code",
        "outputId": "3d167625-ede9-4f99-eeef-ac1e066f07b4",
        "colab": {
          "base_uri": "https://localhost:8080/",
          "height": 267
        }
      },
      "source": [
        "boston['MEDV'].hist();"
      ],
      "execution_count": 0,
      "outputs": [
        {
          "output_type": "display_data",
          "data": {
            "image/png": "[encoded data removed]",
            "text/plain": [
              "<Figure size 432x288 with 1 Axes>"
            ]
          },
          "metadata": {
            "tags": [],
            "needs_background": "light"
          }
        }
      ]
    },
    {
      "cell_type": "markdown",
      "metadata": {
        "id": "Rg4vWjK2vqjz",
        "colab_type": "text"
      },
      "source": [
        "From the histogram of MEDV, we could know that the most housing price is around 20."
      ]
    },
    {
      "cell_type": "code",
      "metadata": {
        "id": "22e8NBlXZgDD",
        "colab_type": "code",
        "outputId": "3a4d7f9a-c1f2-4e80-89fe-a22560d38c77",
        "colab": {
          "base_uri": "https://localhost:8080/",
          "height": 1000
        }
      },
      "source": [
        "boston[['CRIM', 'ZN', 'INDUS', 'CHAS', 'NOX', 'RM', 'AGE', 'DIS', 'RAD',\n",
        "        'TAX', 'PTRATIO', 'B', 'LSTAT']].plot.hist(subplots=True, layout=(7, 2), figsize=(10, 20), bins=10);"
      ],
      "execution_count": 0,
      "outputs": [
        {
          "output_type": "display_data",
          "data": {
            "image/png": "[encoded data removed]",
            "text/plain": [
              "<Figure size 720x1440 with 14 Axes>"
            ]
          },
          "metadata": {
            "tags": [],
            "needs_background": "light"
          }
        }
      ]
    },
    {
      "cell_type": "markdown",
      "metadata": {
        "id": "-sQzJMgGv5sM",
        "colab_type": "text"
      },
      "source": [
        "Here are the histogram of all 13 features."
      ]
    },
    {
      "cell_type": "code",
      "metadata": {
        "id": "UEttHL1IdGXT",
        "colab_type": "code",
        "outputId": "393fa2c9-1698-4d23-a7aa-02cf174dde0b",
        "colab": {
          "base_uri": "https://localhost:8080/",
          "height": 282
        }
      },
      "source": [
        "boston.plot.box()"
      ],
      "execution_count": 0,
      "outputs": [
        {
          "output_type": "execute_result",
          "data": {
            "text/plain": [
              "<matplotlib.axes._subplots.AxesSubplot at 0x7fda36e3b198>"
            ]
          },
          "metadata": {
            "tags": []
          },
          "execution_count": 13
        },
        {
          "output_type": "display_data",
          "data": {
            "image/png": "[encoded data removed]",
            "text/plain": [
              "<Figure size 432x288 with 1 Axes>"
            ]
          },
          "metadata": {
            "tags": [],
            "needs_background": "light"
          }
        }
      ]
    },
    {
      "cell_type": "code",
      "metadata": {
        "id": "wntZcl9_iTmg",
        "colab_type": "code",
        "colab": {}
      },
      "source": [
        "boston['MEDV_class'] = pd.cut(x=boston['MEDV'], bins=3,\n",
        "                              labels=['low', 'medium', 'high'])"
      ],
      "execution_count": 0,
      "outputs": []
    },
    {
      "cell_type": "code",
      "metadata": {
        "id": "wEEbG-QvljEf",
        "colab_type": "code",
        "outputId": "f992d70f-554f-487c-a250-02b32ee438dd",
        "colab": {
          "base_uri": "https://localhost:8080/",
          "height": 419
        }
      },
      "source": [
        "boston"
      ],
      "execution_count": 0,
      "outputs": [
        {
          "output_type": "execute_result",
          "data": {
            "text/html": [
              "<div>\n",
              "<style scoped>\n",
              "    .dataframe tbody tr th:only-of-type {\n",
              "        vertical-align: middle;\n",
              "    }\n",
              "\n",
              "    .dataframe tbody tr th {\n",
              "        vertical-align: top;\n",
              "    }\n",
              "\n",
              "    .dataframe thead th {\n",
              "        text-align: right;\n",
              "    }\n",
              "</style>\n",
              "<table border=\"1\" class=\"dataframe\">\n",
              "  <thead>\n",
              "    <tr style=\"text-align: right;\">\n",
              "      <th></th>\n",
              "      <th>CRIM</th>\n",
              "      <th>ZN</th>\n",
              "      <th>INDUS</th>\n",
              "      <th>CHAS</th>\n",
              "      <th>NOX</th>\n",
              "      <th>RM</th>\n",
              "      <th>AGE</th>\n",
              "      <th>DIS</th>\n",
              "      <th>RAD</th>\n",
              "      <th>TAX</th>\n",
              "      <th>PTRATIO</th>\n",
              "      <th>B</th>\n",
              "      <th>LSTAT</th>\n",
              "      <th>MEDV</th>\n",
              "      <th>MEDV_class</th>\n",
              "    </tr>\n",
              "  </thead>\n",
              "  <tbody>\n",
              "    <tr>\n",
              "      <th>0</th>\n",
              "      <td>0.00632</td>\n",
              "      <td>18.0</td>\n",
              "      <td>2.31</td>\n",
              "      <td>0.0</td>\n",
              "      <td>0.538</td>\n",
              "      <td>6.575</td>\n",
              "      <td>65.2</td>\n",
              "      <td>4.0900</td>\n",
              "      <td>1.0</td>\n",
              "      <td>296.0</td>\n",
              "      <td>15.3</td>\n",
              "      <td>396.90</td>\n",
              "      <td>4.98</td>\n",
              "      <td>24.0</td>\n",
              "      <td>medium</td>\n",
              "    </tr>\n",
              "    <tr>\n",
              "      <th>1</th>\n",
              "      <td>0.02731</td>\n",
              "      <td>0.0</td>\n",
              "      <td>7.07</td>\n",
              "      <td>0.0</td>\n",
              "      <td>0.469</td>\n",
              "      <td>6.421</td>\n",
              "      <td>78.9</td>\n",
              "      <td>4.9671</td>\n",
              "      <td>2.0</td>\n",
              "      <td>242.0</td>\n",
              "      <td>17.8</td>\n",
              "      <td>396.90</td>\n",
              "      <td>9.14</td>\n",
              "      <td>21.6</td>\n",
              "      <td>medium</td>\n",
              "    </tr>\n",
              "    <tr>\n",
              "      <th>2</th>\n",
              "      <td>0.02729</td>\n",
              "      <td>0.0</td>\n",
              "      <td>7.07</td>\n",
              "      <td>0.0</td>\n",
              "      <td>0.469</td>\n",
              "      <td>7.185</td>\n",
              "      <td>61.1</td>\n",
              "      <td>4.9671</td>\n",
              "      <td>2.0</td>\n",
              "      <td>242.0</td>\n",
              "      <td>17.8</td>\n",
              "      <td>392.83</td>\n",
              "      <td>4.03</td>\n",
              "      <td>34.7</td>\n",
              "      <td>medium</td>\n",
              "    </tr>\n",
              "    <tr>\n",
              "      <th>3</th>\n",
              "      <td>0.03237</td>\n",
              "      <td>0.0</td>\n",
              "      <td>2.18</td>\n",
              "      <td>0.0</td>\n",
              "      <td>0.458</td>\n",
              "      <td>6.998</td>\n",
              "      <td>45.8</td>\n",
              "      <td>6.0622</td>\n",
              "      <td>3.0</td>\n",
              "      <td>222.0</td>\n",
              "      <td>18.7</td>\n",
              "      <td>394.63</td>\n",
              "      <td>2.94</td>\n",
              "      <td>33.4</td>\n",
              "      <td>medium</td>\n",
              "    </tr>\n",
              "    <tr>\n",
              "      <th>4</th>\n",
              "      <td>0.06905</td>\n",
              "      <td>0.0</td>\n",
              "      <td>2.18</td>\n",
              "      <td>0.0</td>\n",
              "      <td>0.458</td>\n",
              "      <td>7.147</td>\n",
              "      <td>54.2</td>\n",
              "      <td>6.0622</td>\n",
              "      <td>3.0</td>\n",
              "      <td>222.0</td>\n",
              "      <td>18.7</td>\n",
              "      <td>396.90</td>\n",
              "      <td>5.33</td>\n",
              "      <td>36.2</td>\n",
              "      <td>high</td>\n",
              "    </tr>\n",
              "    <tr>\n",
              "      <th>...</th>\n",
              "      <td>...</td>\n",
              "      <td>...</td>\n",
              "      <td>...</td>\n",
              "      <td>...</td>\n",
              "      <td>...</td>\n",
              "      <td>...</td>\n",
              "      <td>...</td>\n",
              "      <td>...</td>\n",
              "      <td>...</td>\n",
              "      <td>...</td>\n",
              "      <td>...</td>\n",
              "      <td>...</td>\n",
              "      <td>...</td>\n",
              "      <td>...</td>\n",
              "      <td>...</td>\n",
              "    </tr>\n",
              "    <tr>\n",
              "      <th>501</th>\n",
              "      <td>0.06263</td>\n",
              "      <td>0.0</td>\n",
              "      <td>11.93</td>\n",
              "      <td>0.0</td>\n",
              "      <td>0.573</td>\n",
              "      <td>6.593</td>\n",
              "      <td>69.1</td>\n",
              "      <td>2.4786</td>\n",
              "      <td>1.0</td>\n",
              "      <td>273.0</td>\n",
              "      <td>21.0</td>\n",
              "      <td>391.99</td>\n",
              "      <td>9.67</td>\n",
              "      <td>22.4</td>\n",
              "      <td>medium</td>\n",
              "    </tr>\n",
              "    <tr>\n",
              "      <th>502</th>\n",
              "      <td>0.04527</td>\n",
              "      <td>0.0</td>\n",
              "      <td>11.93</td>\n",
              "      <td>0.0</td>\n",
              "      <td>0.573</td>\n",
              "      <td>6.120</td>\n",
              "      <td>76.7</td>\n",
              "      <td>2.2875</td>\n",
              "      <td>1.0</td>\n",
              "      <td>273.0</td>\n",
              "      <td>21.0</td>\n",
              "      <td>396.90</td>\n",
              "      <td>9.08</td>\n",
              "      <td>20.6</td>\n",
              "      <td>medium</td>\n",
              "    </tr>\n",
              "    <tr>\n",
              "      <th>503</th>\n",
              "      <td>0.06076</td>\n",
              "      <td>0.0</td>\n",
              "      <td>11.93</td>\n",
              "      <td>0.0</td>\n",
              "      <td>0.573</td>\n",
              "      <td>6.976</td>\n",
              "      <td>91.0</td>\n",
              "      <td>2.1675</td>\n",
              "      <td>1.0</td>\n",
              "      <td>273.0</td>\n",
              "      <td>21.0</td>\n",
              "      <td>396.90</td>\n",
              "      <td>5.64</td>\n",
              "      <td>23.9</td>\n",
              "      <td>medium</td>\n",
              "    </tr>\n",
              "    <tr>\n",
              "      <th>504</th>\n",
              "      <td>0.10959</td>\n",
              "      <td>0.0</td>\n",
              "      <td>11.93</td>\n",
              "      <td>0.0</td>\n",
              "      <td>0.573</td>\n",
              "      <td>6.794</td>\n",
              "      <td>89.3</td>\n",
              "      <td>2.3889</td>\n",
              "      <td>1.0</td>\n",
              "      <td>273.0</td>\n",
              "      <td>21.0</td>\n",
              "      <td>393.45</td>\n",
              "      <td>6.48</td>\n",
              "      <td>22.0</td>\n",
              "      <td>medium</td>\n",
              "    </tr>\n",
              "    <tr>\n",
              "      <th>505</th>\n",
              "      <td>0.04741</td>\n",
              "      <td>0.0</td>\n",
              "      <td>11.93</td>\n",
              "      <td>0.0</td>\n",
              "      <td>0.573</td>\n",
              "      <td>6.030</td>\n",
              "      <td>80.8</td>\n",
              "      <td>2.5050</td>\n",
              "      <td>1.0</td>\n",
              "      <td>273.0</td>\n",
              "      <td>21.0</td>\n",
              "      <td>396.90</td>\n",
              "      <td>7.88</td>\n",
              "      <td>11.9</td>\n",
              "      <td>low</td>\n",
              "    </tr>\n",
              "  </tbody>\n",
              "</table>\n",
              "<p>506 rows × 15 columns</p>\n",
              "</div>"
            ],
            "text/plain": [
              "        CRIM    ZN  INDUS  CHAS    NOX  ...  PTRATIO       B  LSTAT  MEDV  MEDV_class\n",
              "0    0.00632  18.0   2.31   0.0  0.538  ...     15.3  396.90   4.98  24.0      medium\n",
              "1    0.02731   0.0   7.07   0.0  0.469  ...     17.8  396.90   9.14  21.6      medium\n",
              "2    0.02729   0.0   7.07   0.0  0.469  ...     17.8  392.83   4.03  34.7      medium\n",
              "3    0.03237   0.0   2.18   0.0  0.458  ...     18.7  394.63   2.94  33.4      medium\n",
              "4    0.06905   0.0   2.18   0.0  0.458  ...     18.7  396.90   5.33  36.2        high\n",
              "..       ...   ...    ...   ...    ...  ...      ...     ...    ...   ...         ...\n",
              "501  0.06263   0.0  11.93   0.0  0.573  ...     21.0  391.99   9.67  22.4      medium\n",
              "502  0.04527   0.0  11.93   0.0  0.573  ...     21.0  396.90   9.08  20.6      medium\n",
              "503  0.06076   0.0  11.93   0.0  0.573  ...     21.0  396.90   5.64  23.9      medium\n",
              "504  0.10959   0.0  11.93   0.0  0.573  ...     21.0  393.45   6.48  22.0      medium\n",
              "505  0.04741   0.0  11.93   0.0  0.573  ...     21.0  396.90   7.88  11.9         low\n",
              "\n",
              "[506 rows x 15 columns]"
            ]
          },
          "metadata": {
            "tags": []
          },
          "execution_count": 16
        }
      ]
    },
    {
      "cell_type": "code",
      "metadata": {
        "id": "fDT4Bn8EmPoz",
        "colab_type": "code",
        "outputId": "094ef646-55b1-494e-918d-652e66399456",
        "colab": {
          "base_uri": "https://localhost:8080/",
          "height": 369
        }
      },
      "source": [
        "sns.catplot(x = \"MEDV_class\", y = \"CRIM\", data = boston, kind = \"bar\", height = 5, aspect = 2);"
      ],
      "execution_count": 0,
      "outputs": [
        {
          "output_type": "display_data",
          "data": {
            "image/png": "[encoded data removed]",
            "text/plain": [
              "<Figure size 720x360 with 1 Axes>"
            ]
          },
          "metadata": {
            "tags": [],
            "needs_background": "light"
          }
        }
      ]
    },
    {
      "cell_type": "markdown",
      "metadata": {
        "id": "JE8_dEDjwAKt",
        "colab_type": "text"
      },
      "source": [
        "From the plot of relationship between CRIM and MEDV_class, we could know that the number of crime happended with low price is the largest."
      ]
    },
    {
      "cell_type": "code",
      "metadata": {
        "id": "7PnALgaN3thi",
        "colab_type": "code",
        "outputId": "55dc207b-84e5-4bb7-a2f0-95bf4a805b20",
        "colab": {
          "base_uri": "https://localhost:8080/",
          "height": 369
        }
      },
      "source": [
        "sns.catplot(x = \"MEDV_class\", y = \"ZN\", data = boston, kind = \"bar\", height = 5, aspect = 2);"
      ],
      "execution_count": 0,
      "outputs": [
        {
          "output_type": "display_data",
          "data": {
            "image/png": "[encoded data removed]",
            "text/plain": [
              "<Figure size 720x360 with 1 Axes>"
            ]
          },
          "metadata": {
            "tags": [],
            "needs_background": "light"
          }
        }
      ]
    },
    {
      "cell_type": "markdown",
      "metadata": {
        "id": "gmwKB092wVA0",
        "colab_type": "text"
      },
      "source": [
        "From the plot of relationship between ZN and MEDV_class, we could know that the number of ZN with high price is the largest."
      ]
    },
    {
      "cell_type": "code",
      "metadata": {
        "id": "7Q7HF60-3uvT",
        "colab_type": "code",
        "outputId": "51834611-143f-4922-b826-93de90de7cdb",
        "colab": {
          "base_uri": "https://localhost:8080/",
          "height": 369
        }
      },
      "source": [
        "sns.catplot(x = \"MEDV_class\", y = \"CHAS\", data = boston, kind = \"bar\", height = 5, aspect = 2);"
      ],
      "execution_count": 0,
      "outputs": [
        {
          "output_type": "display_data",
          "data": {
            "image/png": "[encoded data removed]",
            "text/plain": [
              "<Figure size 720x360 with 1 Axes>"
            ]
          },
          "metadata": {
            "tags": [],
            "needs_background": "light"
          }
        }
      ]
    },
    {
      "cell_type": "markdown",
      "metadata": {
        "id": "V2EhOsfFwb1I",
        "colab_type": "text"
      },
      "source": [
        "From the plot of relationship between CHAS and MEDV_class, we could know that the number of CHAS with high price is the largest."
      ]
    },
    {
      "cell_type": "code",
      "metadata": {
        "id": "kt1Q0Feo3vwH",
        "colab_type": "code",
        "outputId": "21b981d4-2fc6-4b8f-9715-57829897d893",
        "colab": {
          "base_uri": "https://localhost:8080/",
          "height": 369
        }
      },
      "source": [
        "sns.catplot(x = \"MEDV_class\", y = \"NOX\", data = boston, kind = \"bar\", height = 5, aspect = 2);"
      ],
      "execution_count": 0,
      "outputs": [
        {
          "output_type": "display_data",
          "data": {
            "image/png": "[encoded data removed]",
            "text/plain": [
              "<Figure size 720x360 with 1 Axes>"
            ]
          },
          "metadata": {
            "tags": [],
            "needs_background": "light"
          }
        }
      ]
    },
    {
      "cell_type": "markdown",
      "metadata": {
        "id": "eVLvnJh4whzo",
        "colab_type": "text"
      },
      "source": [
        "From the plot of relationship between NOX and MEDV_class, we could know that the number of NOX with low price is the largest."
      ]
    },
    {
      "cell_type": "code",
      "metadata": {
        "id": "LQQSO3Cq3wbB",
        "colab_type": "code",
        "outputId": "3e44c26f-15f1-4134-d30a-3f81e3bdf7c1",
        "colab": {
          "base_uri": "https://localhost:8080/",
          "height": 369
        }
      },
      "source": [
        "sns.catplot(x = \"MEDV_class\", y = \"RM\", data = boston, kind = \"bar\", height = 5, aspect = 2);"
      ],
      "execution_count": 0,
      "outputs": [
        {
          "output_type": "display_data",
          "data": {
            "image/png": "[encoded data removed]",
            "text/plain": [
              "<Figure size 720x360 with 1 Axes>"
            ]
          },
          "metadata": {
            "tags": [],
            "needs_background": "light"
          }
        }
      ]
    },
    {
      "cell_type": "markdown",
      "metadata": {
        "id": "vRZqg0JZwoZD",
        "colab_type": "text"
      },
      "source": [
        "From the plot of relationship between RM and MEDV_class, we could know that the number of RM with high price is the largest."
      ]
    },
    {
      "cell_type": "code",
      "metadata": {
        "id": "FfOIeCq83yv6",
        "colab_type": "code",
        "outputId": "c75b54e3-64fe-4fb5-c154-8dc7b59c4a7e",
        "colab": {
          "base_uri": "https://localhost:8080/",
          "height": 369
        }
      },
      "source": [
        "sns.catplot(x = \"MEDV_class\", y = \"AGE\", data = boston, kind = \"bar\", height = 5, aspect = 2);"
      ],
      "execution_count": 0,
      "outputs": [
        {
          "output_type": "display_data",
          "data": {
            "image/png": "[encoded data removed]",
            "text/plain": [
              "<Figure size 720x360 with 1 Axes>"
            ]
          },
          "metadata": {
            "tags": [],
            "needs_background": "light"
          }
        }
      ]
    },
    {
      "cell_type": "markdown",
      "metadata": {
        "id": "YJL-uX1Fwt2j",
        "colab_type": "text"
      },
      "source": [
        "From the plot of relationship between AGE and MEDV_class, we could know that the number of AGE with low price is the largest. "
      ]
    },
    {
      "cell_type": "code",
      "metadata": {
        "id": "7g-Y_UAH30zk",
        "colab_type": "code",
        "outputId": "06c0cfc2-08f4-48de-b143-004262074446",
        "colab": {
          "base_uri": "https://localhost:8080/",
          "height": 369
        }
      },
      "source": [
        "sns.catplot(x = \"MEDV_class\", y = \"DIS\", data = boston, kind = \"bar\", height = 5, aspect = 2);"
      ],
      "execution_count": 0,
      "outputs": [
        {
          "output_type": "display_data",
          "data": {
            "image/png": "[encoded data removed]",
            "text/plain": [
              "<Figure size 720x360 with 1 Axes>"
            ]
          },
          "metadata": {
            "tags": [],
            "needs_background": "light"
          }
        }
      ]
    },
    {
      "cell_type": "markdown",
      "metadata": {
        "id": "pDHVhc4gw4N3",
        "colab_type": "text"
      },
      "source": [
        "From the plot of relationship between DIS and MEDV_class, we could know that the number of DIS with medium price is the largest."
      ]
    },
    {
      "cell_type": "code",
      "metadata": {
        "id": "cZJeVxM130kC",
        "colab_type": "code",
        "outputId": "9d8c9f2d-52ba-4b26-9b92-53d5abbf955a",
        "colab": {
          "base_uri": "https://localhost:8080/",
          "height": 369
        }
      },
      "source": [
        "sns.catplot(x = \"MEDV_class\", y = \"RAD\", data = boston, kind = \"bar\", height = 5, aspect = 2);"
      ],
      "execution_count": 0,
      "outputs": [
        {
          "output_type": "display_data",
          "data": {
            "image/png": "[encoded data removed]",
            "text/plain": [
              "<Figure size 720x360 with 1 Axes>"
            ]
          },
          "metadata": {
            "tags": [],
            "needs_background": "light"
          }
        }
      ]
    },
    {
      "cell_type": "markdown",
      "metadata": {
        "id": "sJt-JwUnw9qc",
        "colab_type": "text"
      },
      "source": [
        "From the plot of relationship between RAD and MEDV_class, we could know that the number of RAD with low price is the largest."
      ]
    },
    {
      "cell_type": "code",
      "metadata": {
        "id": "8c2FdmCt30SG",
        "colab_type": "code",
        "outputId": "4552940b-f605-49d5-b291-357b435eac75",
        "colab": {
          "base_uri": "https://localhost:8080/",
          "height": 369
        }
      },
      "source": [
        "sns.catplot(x = \"MEDV_class\", y = \"TAX\", data = boston, kind = \"bar\", height = 5, aspect = 2);"
      ],
      "execution_count": 0,
      "outputs": [
        {
          "output_type": "display_data",
          "data": {
            "image/png": "[encoded data removed]",
            "text/plain": [
              "<Figure size 720x360 with 1 Axes>"
            ]
          },
          "metadata": {
            "tags": [],
            "needs_background": "light"
          }
        }
      ]
    },
    {
      "cell_type": "markdown",
      "metadata": {
        "id": "4ZFyhoNsxci7",
        "colab_type": "text"
      },
      "source": [
        "From the plot of relationship between TAX and MEDV_class, we could know that the number of TAX with low price is the largest."
      ]
    },
    {
      "cell_type": "code",
      "metadata": {
        "id": "xxKrRAHo48TR",
        "colab_type": "code",
        "outputId": "f79480bf-665d-49b5-f222-7a6553ccc4e2",
        "colab": {
          "base_uri": "https://localhost:8080/",
          "height": 369
        }
      },
      "source": [
        "sns.catplot(x = \"MEDV_class\", y = \"PTRATIO\", data = boston, kind = \"bar\", height = 5, aspect = 2);"
      ],
      "execution_count": 0,
      "outputs": [
        {
          "output_type": "display_data",
          "data": {
            "image/png": "[encoded data removed]",
            "text/plain": [
              "<Figure size 720x360 with 1 Axes>"
            ]
          },
          "metadata": {
            "tags": [],
            "needs_background": "light"
          }
        }
      ]
    },
    {
      "cell_type": "markdown",
      "metadata": {
        "id": "9094RkFoxVVu",
        "colab_type": "text"
      },
      "source": [
        "From the plot of relationship between PTRATIO and MEDV_class, we could know that the number of PTRATIO with low price is the largest."
      ]
    },
    {
      "cell_type": "code",
      "metadata": {
        "id": "itBe4O8y3zdk",
        "colab_type": "code",
        "outputId": "b5d1dbc3-c58a-472d-d2fd-95a001710433",
        "colab": {
          "base_uri": "https://localhost:8080/",
          "height": 369
        }
      },
      "source": [
        "sns.catplot(x = \"MEDV_class\", y = \"LSTAT\", data = boston, kind = \"bar\", height = 5, aspect = 2);"
      ],
      "execution_count": 0,
      "outputs": [
        {
          "output_type": "display_data",
          "data": {
            "image/png": "[encoded data removed]",
            "text/plain": [
              "<Figure size 720x360 with 1 Axes>"
            ]
          },
          "metadata": {
            "tags": [],
            "needs_background": "light"
          }
        }
      ]
    },
    {
      "cell_type": "markdown",
      "metadata": {
        "id": "EKZ7XeK7xKGt",
        "colab_type": "text"
      },
      "source": [
        "From the plot of relationship between LSTAT and MEDV_class, we could know that the number of LSTAT with low price is the largest."
      ]
    },
    {
      "cell_type": "code",
      "metadata": {
        "id": "2SGaXJcW3x9W",
        "colab_type": "code",
        "outputId": "bc15812a-ae5d-47f4-d306-335af8112c8c",
        "colab": {
          "base_uri": "https://localhost:8080/",
          "height": 369
        }
      },
      "source": [
        "sns.catplot(x = \"MEDV_class\", y = \"MEDV\", data = boston, kind = \"bar\", height = 5, aspect = 2);"
      ],
      "execution_count": 0,
      "outputs": [
        {
          "output_type": "display_data",
          "data": {
            "image/png": "[encoded data removed]",
            "text/plain": [
              "<Figure size 720x360 with 1 Axes>"
            ]
          },
          "metadata": {
            "tags": [],
            "needs_background": "light"
          }
        }
      ]
    },
    {
      "cell_type": "markdown",
      "metadata": {
        "id": "eGySrNXqxEnO",
        "colab_type": "text"
      },
      "source": [
        "From the plot of relationship between MEDV and MEDV_class, we could know that the number of MEDV with high price is the largest."
      ]
    },
    {
      "cell_type": "code",
      "metadata": {
        "id": "DMkoaVsRmesq",
        "colab_type": "code",
        "outputId": "51921558-56c4-4a2f-a465-4510d0989b66",
        "colab": {
          "base_uri": "https://localhost:8080/",
          "height": 265
        }
      },
      "source": [
        "boston['MEDV_class'].hist();"
      ],
      "execution_count": 0,
      "outputs": [
        {
          "output_type": "display_data",
          "data": {
            "image/png": "[encoded data removed]",
            "text/plain": [
              "<Figure size 432x288 with 1 Axes>"
            ]
          },
          "metadata": {
            "tags": [],
            "needs_background": "light"
          }
        }
      ]
    },
    {
      "cell_type": "code",
      "metadata": {
        "id": "yiMIWBC0n3qc",
        "colab_type": "code",
        "outputId": "d8ede46d-f39c-4cf5-9d88-b9f2492a3d5b",
        "colab": {
          "base_uri": "https://localhost:8080/",
          "height": 859
        }
      },
      "source": [
        "\n",
        "import numpy as np\n",
        "from matplotlib.pyplot import figure\n",
        "\n",
        "cols = ['CRIM', 'ZN', 'INDUS', 'CHAS', 'NOX', 'RM', 'AGE', 'DIS', 'RAD',\n",
        "        'TAX', 'PTRATIO', 'B', 'LSTAT', 'MEDV']\n",
        "figure(num=None, figsize=(15, 15))\n",
        "cm = np.corrcoef(boston[cols].values.T)\n",
        "sns.set(font_scale=1.5)\n",
        "hm = sns.heatmap(cm,\n",
        "                cbar = True,\n",
        "                annot = True,\n",
        "                square = True,\n",
        "                fmt = '.2f',\n",
        "                annot_kws = {'size': 15},\n",
        "                yticklabels = cols,\n",
        "                xticklabels = cols,\n",
        "                )"
      ],
      "execution_count": 0,
      "outputs": [
        {
          "output_type": "display_data",
          "data": {
            "image/png": "[encoded data removed]",
            "text/plain": [
              "<Figure size 1080x1080 with 2 Axes>"
            ]
          },
          "metadata": {
            "tags": [],
            "needs_background": "light"
          }
        }
      ]
    },
    {
      "cell_type": "code",
      "metadata": {
        "id": "At8AWWlsrXQF",
        "colab_type": "code",
        "outputId": "a4cadff5-137a-4475-fdb9-53b59f87f0cc",
        "colab": {
          "base_uri": "https://localhost:8080/",
          "height": 483
        }
      },
      "source": [
        "correlation_matrix = boston.corr().round(2)\n",
        "correlation_matrix"
      ],
      "execution_count": 0,
      "outputs": [
        {
          "output_type": "execute_result",
          "data": {
            "text/html": [
              "<div>\n",
              "<style scoped>\n",
              "    .dataframe tbody tr th:only-of-type {\n",
              "        vertical-align: middle;\n",
              "    }\n",
              "\n",
              "    .dataframe tbody tr th {\n",
              "        vertical-align: top;\n",
              "    }\n",
              "\n",
              "    .dataframe thead th {\n",
              "        text-align: right;\n",
              "    }\n",
              "</style>\n",
              "<table border=\"1\" class=\"dataframe\">\n",
              "  <thead>\n",
              "    <tr style=\"text-align: right;\">\n",
              "      <th></th>\n",
              "      <th>CRIM</th>\n",
              "      <th>ZN</th>\n",
              "      <th>INDUS</th>\n",
              "      <th>CHAS</th>\n",
              "      <th>NOX</th>\n",
              "      <th>RM</th>\n",
              "      <th>AGE</th>\n",
              "      <th>DIS</th>\n",
              "      <th>RAD</th>\n",
              "      <th>TAX</th>\n",
              "      <th>PTRATIO</th>\n",
              "      <th>B</th>\n",
              "      <th>LSTAT</th>\n",
              "      <th>MEDV</th>\n",
              "    </tr>\n",
              "  </thead>\n",
              "  <tbody>\n",
              "    <tr>\n",
              "      <th>CRIM</th>\n",
              "      <td>1.00</td>\n",
              "      <td>-0.20</td>\n",
              "      <td>0.41</td>\n",
              "      <td>-0.06</td>\n",
              "      <td>0.42</td>\n",
              "      <td>-0.22</td>\n",
              "      <td>0.35</td>\n",
              "      <td>-0.38</td>\n",
              "      <td>0.63</td>\n",
              "      <td>0.58</td>\n",
              "      <td>0.29</td>\n",
              "      <td>-0.39</td>\n",
              "      <td>0.46</td>\n",
              "      <td>-0.39</td>\n",
              "    </tr>\n",
              "    <tr>\n",
              "      <th>ZN</th>\n",
              "      <td>-0.20</td>\n",
              "      <td>1.00</td>\n",
              "      <td>-0.53</td>\n",
              "      <td>-0.04</td>\n",
              "      <td>-0.52</td>\n",
              "      <td>0.31</td>\n",
              "      <td>-0.57</td>\n",
              "      <td>0.66</td>\n",
              "      <td>-0.31</td>\n",
              "      <td>-0.31</td>\n",
              "      <td>-0.39</td>\n",
              "      <td>0.18</td>\n",
              "      <td>-0.41</td>\n",
              "      <td>0.36</td>\n",
              "    </tr>\n",
              "    <tr>\n",
              "      <th>INDUS</th>\n",
              "      <td>0.41</td>\n",
              "      <td>-0.53</td>\n",
              "      <td>1.00</td>\n",
              "      <td>0.06</td>\n",
              "      <td>0.76</td>\n",
              "      <td>-0.39</td>\n",
              "      <td>0.64</td>\n",
              "      <td>-0.71</td>\n",
              "      <td>0.60</td>\n",
              "      <td>0.72</td>\n",
              "      <td>0.38</td>\n",
              "      <td>-0.36</td>\n",
              "      <td>0.60</td>\n",
              "      <td>-0.48</td>\n",
              "    </tr>\n",
              "    <tr>\n",
              "      <th>CHAS</th>\n",
              "      <td>-0.06</td>\n",
              "      <td>-0.04</td>\n",
              "      <td>0.06</td>\n",
              "      <td>1.00</td>\n",
              "      <td>0.09</td>\n",
              "      <td>0.09</td>\n",
              "      <td>0.09</td>\n",
              "      <td>-0.10</td>\n",
              "      <td>-0.01</td>\n",
              "      <td>-0.04</td>\n",
              "      <td>-0.12</td>\n",
              "      <td>0.05</td>\n",
              "      <td>-0.05</td>\n",
              "      <td>0.18</td>\n",
              "    </tr>\n",
              "    <tr>\n",
              "      <th>NOX</th>\n",
              "      <td>0.42</td>\n",
              "      <td>-0.52</td>\n",
              "      <td>0.76</td>\n",
              "      <td>0.09</td>\n",
              "      <td>1.00</td>\n",
              "      <td>-0.30</td>\n",
              "      <td>0.73</td>\n",
              "      <td>-0.77</td>\n",
              "      <td>0.61</td>\n",
              "      <td>0.67</td>\n",
              "      <td>0.19</td>\n",
              "      <td>-0.38</td>\n",
              "      <td>0.59</td>\n",
              "      <td>-0.43</td>\n",
              "    </tr>\n",
              "    <tr>\n",
              "      <th>RM</th>\n",
              "      <td>-0.22</td>\n",
              "      <td>0.31</td>\n",
              "      <td>-0.39</td>\n",
              "      <td>0.09</td>\n",
              "      <td>-0.30</td>\n",
              "      <td>1.00</td>\n",
              "      <td>-0.24</td>\n",
              "      <td>0.21</td>\n",
              "      <td>-0.21</td>\n",
              "      <td>-0.29</td>\n",
              "      <td>-0.36</td>\n",
              "      <td>0.13</td>\n",
              "      <td>-0.61</td>\n",
              "      <td>0.70</td>\n",
              "    </tr>\n",
              "    <tr>\n",
              "      <th>AGE</th>\n",
              "      <td>0.35</td>\n",
              "      <td>-0.57</td>\n",
              "      <td>0.64</td>\n",
              "      <td>0.09</td>\n",
              "      <td>0.73</td>\n",
              "      <td>-0.24</td>\n",
              "      <td>1.00</td>\n",
              "      <td>-0.75</td>\n",
              "      <td>0.46</td>\n",
              "      <td>0.51</td>\n",
              "      <td>0.26</td>\n",
              "      <td>-0.27</td>\n",
              "      <td>0.60</td>\n",
              "      <td>-0.38</td>\n",
              "    </tr>\n",
              "    <tr>\n",
              "      <th>DIS</th>\n",
              "      <td>-0.38</td>\n",
              "      <td>0.66</td>\n",
              "      <td>-0.71</td>\n",
              "      <td>-0.10</td>\n",
              "      <td>-0.77</td>\n",
              "      <td>0.21</td>\n",
              "      <td>-0.75</td>\n",
              "      <td>1.00</td>\n",
              "      <td>-0.49</td>\n",
              "      <td>-0.53</td>\n",
              "      <td>-0.23</td>\n",
              "      <td>0.29</td>\n",
              "      <td>-0.50</td>\n",
              "      <td>0.25</td>\n",
              "    </tr>\n",
              "    <tr>\n",
              "      <th>RAD</th>\n",
              "      <td>0.63</td>\n",
              "      <td>-0.31</td>\n",
              "      <td>0.60</td>\n",
              "      <td>-0.01</td>\n",
              "      <td>0.61</td>\n",
              "      <td>-0.21</td>\n",
              "      <td>0.46</td>\n",
              "      <td>-0.49</td>\n",
              "      <td>1.00</td>\n",
              "      <td>0.91</td>\n",
              "      <td>0.46</td>\n",
              "      <td>-0.44</td>\n",
              "      <td>0.49</td>\n",
              "      <td>-0.38</td>\n",
              "    </tr>\n",
              "    <tr>\n",
              "      <th>TAX</th>\n",
              "      <td>0.58</td>\n",
              "      <td>-0.31</td>\n",
              "      <td>0.72</td>\n",
              "      <td>-0.04</td>\n",
              "      <td>0.67</td>\n",
              "      <td>-0.29</td>\n",
              "      <td>0.51</td>\n",
              "      <td>-0.53</td>\n",
              "      <td>0.91</td>\n",
              "      <td>1.00</td>\n",
              "      <td>0.46</td>\n",
              "      <td>-0.44</td>\n",
              "      <td>0.54</td>\n",
              "      <td>-0.47</td>\n",
              "    </tr>\n",
              "    <tr>\n",
              "      <th>PTRATIO</th>\n",
              "      <td>0.29</td>\n",
              "      <td>-0.39</td>\n",
              "      <td>0.38</td>\n",
              "      <td>-0.12</td>\n",
              "      <td>0.19</td>\n",
              "      <td>-0.36</td>\n",
              "      <td>0.26</td>\n",
              "      <td>-0.23</td>\n",
              "      <td>0.46</td>\n",
              "      <td>0.46</td>\n",
              "      <td>1.00</td>\n",
              "      <td>-0.18</td>\n",
              "      <td>0.37</td>\n",
              "      <td>-0.51</td>\n",
              "    </tr>\n",
              "    <tr>\n",
              "      <th>B</th>\n",
              "      <td>-0.39</td>\n",
              "      <td>0.18</td>\n",
              "      <td>-0.36</td>\n",
              "      <td>0.05</td>\n",
              "      <td>-0.38</td>\n",
              "      <td>0.13</td>\n",
              "      <td>-0.27</td>\n",
              "      <td>0.29</td>\n",
              "      <td>-0.44</td>\n",
              "      <td>-0.44</td>\n",
              "      <td>-0.18</td>\n",
              "      <td>1.00</td>\n",
              "      <td>-0.37</td>\n",
              "      <td>0.33</td>\n",
              "    </tr>\n",
              "    <tr>\n",
              "      <th>LSTAT</th>\n",
              "      <td>0.46</td>\n",
              "      <td>-0.41</td>\n",
              "      <td>0.60</td>\n",
              "      <td>-0.05</td>\n",
              "      <td>0.59</td>\n",
              "      <td>-0.61</td>\n",
              "      <td>0.60</td>\n",
              "      <td>-0.50</td>\n",
              "      <td>0.49</td>\n",
              "      <td>0.54</td>\n",
              "      <td>0.37</td>\n",
              "      <td>-0.37</td>\n",
              "      <td>1.00</td>\n",
              "      <td>-0.74</td>\n",
              "    </tr>\n",
              "    <tr>\n",
              "      <th>MEDV</th>\n",
              "      <td>-0.39</td>\n",
              "      <td>0.36</td>\n",
              "      <td>-0.48</td>\n",
              "      <td>0.18</td>\n",
              "      <td>-0.43</td>\n",
              "      <td>0.70</td>\n",
              "      <td>-0.38</td>\n",
              "      <td>0.25</td>\n",
              "      <td>-0.38</td>\n",
              "      <td>-0.47</td>\n",
              "      <td>-0.51</td>\n",
              "      <td>0.33</td>\n",
              "      <td>-0.74</td>\n",
              "      <td>1.00</td>\n",
              "    </tr>\n",
              "  </tbody>\n",
              "</table>\n",
              "</div>"
            ],
            "text/plain": [
              "         CRIM    ZN  INDUS  CHAS   NOX  ...   TAX  PTRATIO     B  LSTAT  MEDV\n",
              "CRIM     1.00 -0.20   0.41 -0.06  0.42  ...  0.58     0.29 -0.39   0.46 -0.39\n",
              "ZN      -0.20  1.00  -0.53 -0.04 -0.52  ... -0.31    -0.39  0.18  -0.41  0.36\n",
              "INDUS    0.41 -0.53   1.00  0.06  0.76  ...  0.72     0.38 -0.36   0.60 -0.48\n",
              "CHAS    -0.06 -0.04   0.06  1.00  0.09  ... -0.04    -0.12  0.05  -0.05  0.18\n",
              "NOX      0.42 -0.52   0.76  0.09  1.00  ...  0.67     0.19 -0.38   0.59 -0.43\n",
              "RM      -0.22  0.31  -0.39  0.09 -0.30  ... -0.29    -0.36  0.13  -0.61  0.70\n",
              "AGE      0.35 -0.57   0.64  0.09  0.73  ...  0.51     0.26 -0.27   0.60 -0.38\n",
              "DIS     -0.38  0.66  -0.71 -0.10 -0.77  ... -0.53    -0.23  0.29  -0.50  0.25\n",
              "RAD      0.63 -0.31   0.60 -0.01  0.61  ...  0.91     0.46 -0.44   0.49 -0.38\n",
              "TAX      0.58 -0.31   0.72 -0.04  0.67  ...  1.00     0.46 -0.44   0.54 -0.47\n",
              "PTRATIO  0.29 -0.39   0.38 -0.12  0.19  ...  0.46     1.00 -0.18   0.37 -0.51\n",
              "B       -0.39  0.18  -0.36  0.05 -0.38  ... -0.44    -0.18  1.00  -0.37  0.33\n",
              "LSTAT    0.46 -0.41   0.60 -0.05  0.59  ...  0.54     0.37 -0.37   1.00 -0.74\n",
              "MEDV    -0.39  0.36  -0.48  0.18 -0.43  ... -0.47    -0.51  0.33  -0.74  1.00\n",
              "\n",
              "[14 rows x 14 columns]"
            ]
          },
          "metadata": {
            "tags": []
          },
          "execution_count": 33
        }
      ]
    },
    {
      "cell_type": "markdown",
      "metadata": {
        "id": "X3fA40SICjTY",
        "colab_type": "text"
      },
      "source": [
        "## Developing a Model: Classification"
      ]
    },
    {
      "cell_type": "markdown",
      "metadata": {
        "id": "Cr47gWZPCx60",
        "colab_type": "text"
      },
      "source": [
        "In this section, I will develop the tools and techniques necessary for a model to make a prediction. Being able to make accurate evaluations of each model's performance through the use of these tools and techniques helps to greatly reinforce the confidence in my predictions.\n",
        "\n",
        "In this section, I will divide the hourse price \"MEDV\" into three classes: low, medium, and high. And then, I will build the model for classification."
      ]
    },
    {
      "cell_type": "markdown",
      "metadata": {
        "id": "Bzwfkpj2aOF9",
        "colab_type": "text"
      },
      "source": [
        "Split data"
      ]
    },
    {
      "cell_type": "code",
      "metadata": {
        "id": "zJKevvrzxcCN",
        "colab_type": "code",
        "colab": {}
      },
      "source": [
        "from sklearn import preprocessing\n",
        "\n",
        "le = preprocessing.LabelEncoder()\n",
        "y = boston[['MEDV_class']].apply(le.fit_transform)\n",
        "\n",
        "X = boston[['CRIM', 'ZN', 'INDUS', 'CHAS', 'NOX', 'RM', 'AGE', 'DIS', 'RAD',\n",
        "        'TAX', 'PTRATIO', 'B', 'LSTAT']]"
      ],
      "execution_count": 0,
      "outputs": []
    },
    {
      "cell_type": "code",
      "metadata": {
        "id": "GR1SxUv3sWzm",
        "colab_type": "code",
        "colab": {}
      },
      "source": [
        "from sklearn.model_selection import train_test_split \n",
        "X_train, X_test, y_train, y_test = train_test_split(X, y, test_size = 0.20, random_state = 5)"
      ],
      "execution_count": 0,
      "outputs": []
    },
    {
      "cell_type": "markdown",
      "metadata": {
        "id": "S8XglWXoaSYq",
        "colab_type": "text"
      },
      "source": [
        "Build and fit the model"
      ]
    },
    {
      "cell_type": "code",
      "metadata": {
        "id": "pj96NaUCXl1s",
        "colab_type": "code",
        "colab": {}
      },
      "source": [
        "from sklearn.preprocessing import StandardScaler\n",
        "sc = StandardScaler()\n",
        "sc.fit(X_train)\n",
        "X_train_std = sc.transform(X_train)\n",
        "X_test_std = sc.transform(X_test)"
      ],
      "execution_count": 0,
      "outputs": []
    },
    {
      "cell_type": "code",
      "metadata": {
        "id": "gpTxsqhPX0mS",
        "colab_type": "code",
        "outputId": "24c6615b-d38b-4db6-a92f-b4c02b2d272f",
        "colab": {
          "base_uri": "https://localhost:8080/",
          "height": 71
        }
      },
      "source": [
        "from sklearn.linear_model import LogisticRegression\n",
        "lr = LogisticRegression(C = 1000.0, random_state=0)\n",
        "lr.fit(X_train_std, y_train);"
      ],
      "execution_count": 0,
      "outputs": [
        {
          "output_type": "stream",
          "text": [
            "/usr/local/lib/python3.6/dist-packages/sklearn/utils/validation.py:760: DataConversionWarning: A column-vector y was passed when a 1d array was expected. Please change the shape of y to (n_samples, ), for example using ravel().\n",
            "  y = column_or_1d(y, warn=True)\n"
          ],
          "name": "stderr"
        }
      ]
    },
    {
      "cell_type": "markdown",
      "metadata": {
        "id": "b7-pcO9uain0",
        "colab_type": "text"
      },
      "source": [
        "Make predictions and evaluate the performance"
      ]
    },
    {
      "cell_type": "code",
      "metadata": {
        "id": "9_Xba_G6X5Yu",
        "colab_type": "code",
        "outputId": "50a79ffb-951a-4c31-8dc9-bd070bd9aa2f",
        "colab": {
          "base_uri": "https://localhost:8080/",
          "height": 34
        }
      },
      "source": [
        "from sklearn import metrics\n",
        "y_pred = lr.predict(X_test_std);\n",
        "metrics.accuracy_score(y_test, y_pred)"
      ],
      "execution_count": 0,
      "outputs": [
        {
          "output_type": "execute_result",
          "data": {
            "text/plain": [
              "0.8235294117647058"
            ]
          },
          "metadata": {
            "tags": []
          },
          "execution_count": 38
        }
      ]
    },
    {
      "cell_type": "code",
      "metadata": {
        "id": "DtngKgh-X-Wd",
        "colab_type": "code",
        "outputId": "ef4910a1-229b-4026-9579-671cd6cf0326",
        "colab": {
          "base_uri": "https://localhost:8080/",
          "height": 1000
        }
      },
      "source": [
        "lr.predict_proba(X_test_std)"
      ],
      "execution_count": 0,
      "outputs": [
        {
          "output_type": "execute_result",
          "data": {
            "text/plain": [
              "array([[9.60000509e-01, 8.15765926e-05, 3.99179140e-02],\n",
              "       [1.24965848e-01, 1.13379707e-04, 8.74920772e-01],\n",
              "       [8.10855026e-03, 8.82124923e-02, 9.03678957e-01],\n",
              "       [1.30566477e-13, 9.99837194e-01, 1.62806139e-04],\n",
              "       [8.65007115e-02, 1.13646781e-03, 9.12362821e-01],\n",
              "       [2.17911248e-09, 9.99984065e-01, 1.59332332e-05],\n",
              "       [2.63662338e-02, 9.97113201e-02, 8.73922446e-01],\n",
              "       [4.37236352e-02, 7.01695992e-03, 9.49259405e-01],\n",
              "       [1.79521434e-03, 1.79448719e-01, 8.18756067e-01],\n",
              "       [6.55467424e-04, 1.57020450e-01, 8.42324083e-01],\n",
              "       [1.56353117e-01, 1.47972189e-02, 8.28849664e-01],\n",
              "       [1.08062058e-03, 2.03900880e-01, 7.95018500e-01],\n",
              "       [9.70665921e-04, 2.05329864e-01, 7.93699470e-01],\n",
              "       [3.33410652e-01, 5.69103121e-04, 6.66020245e-01],\n",
              "       [1.94311230e-02, 1.07629894e-02, 9.69805888e-01],\n",
              "       [3.46021346e-07, 9.73519857e-01, 2.64797967e-02],\n",
              "       [1.98500398e-13, 9.99996079e-01, 3.92120370e-06],\n",
              "       [1.06968242e-05, 8.88013912e-01, 1.11975391e-01],\n",
              "       [2.73851477e-09, 9.74085536e-01, 2.59144614e-02],\n",
              "       [7.28992635e-01, 2.71003837e-01, 3.52714811e-06],\n",
              "       [6.14620135e-17, 9.99938382e-01, 6.16182013e-05],\n",
              "       [1.26799741e-05, 7.25012623e-01, 2.74974697e-01],\n",
              "       [9.44560854e-01, 7.57769917e-05, 5.53633689e-02],\n",
              "       [1.04233955e-03, 1.86363942e-01, 8.12593718e-01],\n",
              "       [1.37983041e-02, 8.95032497e-04, 9.85306663e-01],\n",
              "       [1.99237470e-08, 9.99044278e-01, 9.55702341e-04],\n",
              "       [1.15939025e-02, 6.84115149e-02, 9.19994583e-01],\n",
              "       [1.69179864e-04, 3.16138008e-01, 6.83692812e-01],\n",
              "       [1.61941666e-02, 1.39252245e-01, 8.44553588e-01],\n",
              "       [1.60600430e-03, 4.00245840e-01, 5.98148155e-01],\n",
              "       [9.24495783e-10, 8.83036139e-01, 1.16963860e-01],\n",
              "       [5.87731796e-14, 9.99316718e-01, 6.83281839e-04],\n",
              "       [1.46098672e-04, 9.44374674e-01, 5.54792272e-02],\n",
              "       [4.23088198e-04, 8.54860291e-01, 1.44716621e-01],\n",
              "       [1.25413658e-02, 1.86958417e-03, 9.85589050e-01],\n",
              "       [4.27560513e-06, 8.05136194e-01, 1.94859531e-01],\n",
              "       [1.01087062e-02, 2.45587439e-02, 9.65332550e-01],\n",
              "       [2.54643245e-08, 9.99812765e-01, 1.87209810e-04],\n",
              "       [9.65462469e-01, 5.34017874e-05, 3.44841292e-02],\n",
              "       [6.17811293e-01, 2.82180605e-05, 3.82160489e-01],\n",
              "       [6.08703762e-04, 7.27549534e-01, 2.71841762e-01],\n",
              "       [5.24751278e-17, 9.99921918e-01, 7.80816402e-05],\n",
              "       [1.08302951e-01, 1.96605330e-02, 8.72036516e-01],\n",
              "       [1.69031082e-06, 9.89906577e-01, 1.00917326e-02],\n",
              "       [7.48237446e-03, 1.66660997e-02, 9.75851526e-01],\n",
              "       [6.64749885e-02, 3.53618949e-03, 9.29988822e-01],\n",
              "       [1.18371769e-14, 9.99999999e-01, 8.81850554e-10],\n",
              "       [1.17374351e-06, 3.25066462e-01, 6.74932364e-01],\n",
              "       [2.03501862e-05, 8.35043874e-01, 1.64935775e-01],\n",
              "       [2.94565117e-11, 9.91358188e-01, 8.64181160e-03],\n",
              "       [1.10500343e-05, 7.13592739e-01, 2.86396211e-01],\n",
              "       [3.66908396e-05, 5.05305722e-01, 4.94657587e-01],\n",
              "       [6.39245093e-04, 6.49098820e-02, 9.34450873e-01],\n",
              "       [2.87195802e-09, 9.97425205e-01, 2.57479233e-03],\n",
              "       [1.48625311e-06, 9.65903290e-01, 3.40952240e-02],\n",
              "       [6.90051450e-03, 2.66251692e-02, 9.66474316e-01],\n",
              "       [6.47668113e-01, 7.41154208e-04, 3.51590732e-01],\n",
              "       [1.74308519e-05, 9.70475018e-01, 2.95075511e-02],\n",
              "       [1.72805740e-02, 4.83385684e-03, 9.77885569e-01],\n",
              "       [6.65860160e-05, 2.47428228e-01, 7.52505186e-01],\n",
              "       [1.27509771e-05, 6.92449932e-01, 3.07537317e-01],\n",
              "       [3.56802894e-03, 5.26192284e-02, 9.43812743e-01],\n",
              "       [1.29682075e-08, 9.46894706e-01, 5.31052807e-02],\n",
              "       [3.04517590e-01, 4.35332092e-03, 6.91129089e-01],\n",
              "       [2.08672888e-03, 2.85108073e-01, 7.12805198e-01],\n",
              "       [2.63326580e-06, 9.99236121e-01, 7.61245330e-04],\n",
              "       [8.80872926e-06, 9.25620243e-01, 7.43709482e-02],\n",
              "       [4.97496063e-03, 1.48130846e-02, 9.80211955e-01],\n",
              "       [2.51017809e-04, 5.11984587e-02, 9.48550524e-01],\n",
              "       [3.16782969e-03, 7.25157347e-02, 9.24316436e-01],\n",
              "       [2.60902705e-05, 6.59736891e-01, 3.40237019e-01],\n",
              "       [2.97304565e-02, 1.67721162e-02, 9.53497427e-01],\n",
              "       [7.97635245e-07, 8.43852365e-01, 1.56146837e-01],\n",
              "       [1.15882966e-04, 9.77682853e-01, 2.22012643e-02],\n",
              "       [1.25328909e-02, 7.23503799e-01, 2.63963310e-01],\n",
              "       [6.81121578e-02, 1.13461724e-02, 9.20541670e-01],\n",
              "       [4.85539916e-05, 4.69551562e-01, 5.30399884e-01],\n",
              "       [3.99713949e-09, 9.91415958e-01, 8.58403837e-03],\n",
              "       [1.34096642e-01, 1.69876974e-02, 8.48915660e-01],\n",
              "       [1.44075121e-04, 8.61515345e-01, 1.38340579e-01],\n",
              "       [1.81584118e-03, 1.51984399e-01, 8.46199760e-01],\n",
              "       [7.69862702e-01, 1.11007214e-04, 2.30026290e-01],\n",
              "       [7.15844427e-07, 5.77717144e-01, 4.22282140e-01],\n",
              "       [3.82454386e-04, 9.91235614e-01, 8.38193127e-03],\n",
              "       [6.14202453e-04, 5.99398024e-03, 9.93391817e-01],\n",
              "       [5.32953873e-06, 9.65653714e-01, 3.43409561e-02],\n",
              "       [3.16207555e-06, 7.44899900e-01, 2.55096938e-01],\n",
              "       [9.64382004e-10, 9.98291992e-01, 1.70800727e-03],\n",
              "       [2.75587638e-06, 4.88368307e-01, 5.11628937e-01],\n",
              "       [7.19494806e-05, 5.20508102e-01, 4.79419948e-01],\n",
              "       [8.07478089e-01, 3.86130274e-04, 1.92135780e-01],\n",
              "       [2.05596838e-06, 9.34441795e-01, 6.55561486e-02],\n",
              "       [1.90066145e-02, 6.76104984e-01, 3.04888401e-01],\n",
              "       [4.64361144e-05, 8.49617697e-01, 1.50335867e-01],\n",
              "       [3.33568003e-03, 9.30476285e-02, 9.03616691e-01],\n",
              "       [5.30195649e-02, 4.84781476e-03, 9.42132620e-01],\n",
              "       [5.79452054e-09, 9.88115940e-01, 1.18840543e-02],\n",
              "       [2.01998832e-03, 3.82441670e-01, 6.15538342e-01],\n",
              "       [4.07518004e-06, 1.65857352e-01, 8.34138573e-01],\n",
              "       [3.74197043e-07, 9.92086312e-01, 7.91331355e-03],\n",
              "       [1.13561581e-02, 5.99356498e-02, 9.28708192e-01],\n",
              "       [7.27211214e-04, 3.00315821e-01, 6.98956968e-01]])"
            ]
          },
          "metadata": {
            "tags": []
          },
          "execution_count": 40
        }
      ]
    },
    {
      "cell_type": "code",
      "metadata": {
        "id": "wRG93oWEX-Ce",
        "colab_type": "code",
        "outputId": "48a881ab-76e8-4ac3-b470-c945120448f8",
        "colab": {
          "base_uri": "https://localhost:8080/",
          "height": 68
        }
      },
      "source": [
        "from sklearn.metrics import confusion_matrix\n",
        "confusion_matrix = confusion_matrix(y_test, y_pred)\n",
        "print(confusion_matrix)"
      ],
      "execution_count": 0,
      "outputs": [
        {
          "output_type": "stream",
          "text": [
            "[[ 6  0  3]\n",
            " [ 1 39  5]\n",
            " [ 1  8 39]]\n"
          ],
          "name": "stdout"
        }
      ]
    },
    {
      "cell_type": "markdown",
      "metadata": {
        "id": "TGd7_dJBXIXf",
        "colab_type": "text"
      },
      "source": [
        "# Streamlining workflows with pipeline"
      ]
    },
    {
      "cell_type": "code",
      "metadata": {
        "id": "P4L10nqSsrkd",
        "colab_type": "code",
        "colab": {}
      },
      "source": [
        "import numpy as np\n",
        "from sklearn.impute import SimpleImputer\n",
        "from sklearn.preprocessing import PolynomialFeatures\n",
        "from sklearn.compose import ColumnTransformer\n",
        "from sklearn.preprocessing import MinMaxScaler\n",
        "transformer = ColumnTransformer([(\"norm1\", SimpleImputer(missing_values=np.nan, strategy='mean'),[0,1,2,3]),\n",
        "                                 ('poly', PolynomialFeatures(3),[0,1]),\n",
        "                                ('scaler',MinMaxScaler(feature_range=(0,1)),[0,1,2,3])])"
      ],
      "execution_count": 0,
      "outputs": []
    },
    {
      "cell_type": "code",
      "metadata": {
        "id": "umZVCwaVx2Jd",
        "colab_type": "code",
        "outputId": "5a3169d5-1ad3-4ba4-a89c-42630790fdec",
        "colab": {
          "base_uri": "https://localhost:8080/",
          "height": 224
        }
      },
      "source": [
        "from sklearn.linear_model import LogisticRegression\n",
        "from sklearn.pipeline import Pipeline\n",
        "logistic_model=Pipeline(steps=([('transformer', transformer), \n",
        "                                ('LR', LogisticRegression())]))\n",
        "lr = logistic_model.fit(X_train, y_train.astype('int'))\n",
        "\n",
        "from sklearn import metrics\n",
        "y_pred = logistic_model.predict(X_test);\n",
        "metrics.accuracy_score(y_test, y_pred)"
      ],
      "execution_count": 0,
      "outputs": [
        {
          "output_type": "stream",
          "text": [
            "/usr/local/lib/python3.6/dist-packages/sklearn/utils/validation.py:760: DataConversionWarning: A column-vector y was passed when a 1d array was expected. Please change the shape of y to (n_samples, ), for example using ravel().\n",
            "  y = column_or_1d(y, warn=True)\n",
            "/usr/local/lib/python3.6/dist-packages/sklearn/linear_model/_logistic.py:940: ConvergenceWarning: lbfgs failed to converge (status=1):\n",
            "STOP: TOTAL NO. of ITERATIONS REACHED LIMIT.\n",
            "\n",
            "Increase the number of iterations (max_iter) or scale the data as shown in:\n",
            "    https://scikit-learn.org/stable/modules/preprocessing.html\n",
            "Please also refer to the documentation for alternative solver options:\n",
            "    https://scikit-learn.org/stable/modules/linear_model.html#logistic-regression\n",
            "  extra_warning_msg=_LOGISTIC_SOLVER_CONVERGENCE_MSG)\n"
          ],
          "name": "stderr"
        },
        {
          "output_type": "execute_result",
          "data": {
            "text/plain": [
              "0.5392156862745098"
            ]
          },
          "metadata": {
            "tags": []
          },
          "execution_count": 43
        }
      ]
    },
    {
      "cell_type": "code",
      "metadata": {
        "id": "aAbOu_lpx49Q",
        "colab_type": "code",
        "outputId": "e56cbe6f-bb94-4a33-e51e-7067229a012d",
        "colab": {
          "base_uri": "https://localhost:8080/",
          "height": 88
        }
      },
      "source": [
        "def return_as_it_is(X):\n",
        "    return X*1\n",
        "\n",
        "from sklearn import ensemble\n",
        "from sklearn.preprocessing import FunctionTransformer\n",
        "rf_model = Pipeline(steps=([('transformer', transformer),('do_nothing',FunctionTransformer(return_as_it_is)),\n",
        "                            ('RF', ensemble.RandomForestClassifier())]))\n",
        "rf = rf_model.fit(X_train,y_train)\n",
        "\n",
        "from sklearn import metrics\n",
        "y_pred = rf_model.predict(X_test);\n",
        "metrics.accuracy_score(y_test, y_pred)"
      ],
      "execution_count": 0,
      "outputs": [
        {
          "output_type": "stream",
          "text": [
            "/usr/local/lib/python3.6/dist-packages/sklearn/pipeline.py:354: DataConversionWarning: A column-vector y was passed when a 1d array was expected. Please change the shape of y to (n_samples,), for example using ravel().\n",
            "  self._final_estimator.fit(Xt, y, **fit_params)\n"
          ],
          "name": "stderr"
        },
        {
          "output_type": "execute_result",
          "data": {
            "text/plain": [
              "0.6470588235294118"
            ]
          },
          "metadata": {
            "tags": []
          },
          "execution_count": 44
        }
      ]
    },
    {
      "cell_type": "code",
      "metadata": {
        "id": "hhc4F62k0Vw3",
        "colab_type": "code",
        "outputId": "13fdc29f-f497-4ea6-cd45-b2695b578ba8",
        "colab": {
          "base_uri": "https://localhost:8080/",
          "height": 88
        }
      },
      "source": [
        "from sklearn.naive_bayes import GaussianNB\n",
        "bayes_model = Pipeline(steps=([('transformer', transformer), \n",
        "                                ('GNB', GaussianNB())]))\n",
        "\n",
        "bayes = bayes_model.fit(X_train, y_train)\n",
        "\n",
        "from sklearn import metrics\n",
        "y_pred = bayes.predict(X_test);\n",
        "metrics.accuracy_score(y_test, y_pred)"
      ],
      "execution_count": 0,
      "outputs": [
        {
          "output_type": "stream",
          "text": [
            "/usr/local/lib/python3.6/dist-packages/sklearn/naive_bayes.py:206: DataConversionWarning: A column-vector y was passed when a 1d array was expected. Please change the shape of y to (n_samples, ), for example using ravel().\n",
            "  y = column_or_1d(y, warn=True)\n"
          ],
          "name": "stderr"
        },
        {
          "output_type": "execute_result",
          "data": {
            "text/plain": [
              "0.5"
            ]
          },
          "metadata": {
            "tags": []
          },
          "execution_count": 45
        }
      ]
    },
    {
      "cell_type": "markdown",
      "metadata": {
        "id": "M7rI3T1bZB70",
        "colab_type": "text"
      },
      "source": [
        "## Model: Non-classification"
      ]
    },
    {
      "cell_type": "markdown",
      "metadata": {
        "id": "nRF1ZohvZntt",
        "colab_type": "text"
      },
      "source": [
        "In this section, I will use \"MEDV\" as the predicted variable to build the model."
      ]
    },
    {
      "cell_type": "markdown",
      "metadata": {
        "id": "w9FwBkApbDze",
        "colab_type": "text"
      },
      "source": [
        "Split data"
      ]
    },
    {
      "cell_type": "code",
      "metadata": {
        "id": "caeTKtL10YuV",
        "colab_type": "code",
        "colab": {}
      },
      "source": [
        "X = X = boston[['CRIM', 'ZN', 'INDUS', 'CHAS', 'NOX', 'RM', 'AGE', 'DIS', 'RAD',\n",
        "        'TAX', 'PTRATIO', 'B', 'LSTAT']]\n",
        "Y = boston[\"MEDV\"]"
      ],
      "execution_count": 0,
      "outputs": []
    },
    {
      "cell_type": "code",
      "metadata": {
        "id": "SNEHq5cy0kxF",
        "colab_type": "code",
        "colab": {}
      },
      "source": [
        "from sklearn.model_selection import train_test_split\n",
        "\n",
        "x_train, x_test, Y_train, Y_test = train_test_split(X, Y, test_size = 0.2, random_state=5)"
      ],
      "execution_count": 0,
      "outputs": []
    },
    {
      "cell_type": "markdown",
      "metadata": {
        "id": "km_8W8-DbHu7",
        "colab_type": "text"
      },
      "source": [
        "Build and fit the model, and make the predictions."
      ]
    },
    {
      "cell_type": "code",
      "metadata": {
        "id": "1kam9nDj0w2A",
        "colab_type": "code",
        "outputId": "55c9ca8b-5865-4e3c-f4a4-8ff03892e0aa",
        "colab": {
          "base_uri": "https://localhost:8080/",
          "height": 459
        }
      },
      "source": [
        "from sklearn import preprocessing\n",
        "from sklearn import utils\n",
        "\n",
        "lab_enc = preprocessing.LabelEncoder()\n",
        "training_scores_encoded = lab_enc.fit_transform(Y_train)\n",
        "print(training_scores_encoded)\n",
        "print(utils.multiclass.type_of_target(Y_train))\n",
        "print(utils.multiclass.type_of_target(Y_train.astype('int')))\n",
        "print(utils.multiclass.type_of_target(training_scores_encoded))"
      ],
      "execution_count": 0,
      "outputs": [
        {
          "output_type": "stream",
          "text": [
            "[ 29 204   9  93  23 204 126  52 124 128  29 158  46  35 138  57  77  65\n",
            "  75 176  94  61 119 139 100 101  80 204 204 115  14  67  15  97  35  14\n",
            " 107 159  82  49  89  81 178 204 125  75  85 110  31 204  20  16 122 182\n",
            "  46 129 176 165  32 180  39 182 136  71  57  32 121 144 107  66  38 103\n",
            "   6  47  90 167  87  79 150 200 111 124 105  49 204 134 190 102  81  64\n",
            " 114  44 144  12 123 124  88  56 173  41 148 122  24 164 106  25 181  43\n",
            " 114 114  81  85  87 154  92 151  94  86  21   0 118  93 114  84  37 161\n",
            " 196  86  36 108  38 124  51  92  12  88  28  77 106  91  64  29 106 199\n",
            "  76  87  88 100  63  98 146  83 184  95  74  99 195 133 134 118 147 102\n",
            "  97  21 204  67 179 148  40 157  85  81  72  11 152  32  61 106 164 163\n",
            " 128  15 140 137  60 184 126 106 109  68  43  34 111 123  17 189 191  88\n",
            "  22 149 154  96 107  73 103  52  44 175 123  88  58  99  95 185  77  70\n",
            "  31 156 204  96 134   3 162  80  87 144  79   6  36  33  49  70  83 194\n",
            " 171  53  67 197  90  63  71  26 165 152  98  45 134 127  59 135  10 160\n",
            " 204  40 108  87 122 133 177 130  55  46  73 113 155 118 141  91  78 142\n",
            " 113 131 174 116  77 115 110 204 106 118  97 116 155  86 131 192 202   7\n",
            "   3 134  50 134 186 172  19 122  48   9  93  32 153   0   5 116  82  30\n",
            "  40 193 125  35   7  62 167 121  18  89 173 132 113  52  70  93 116 117\n",
            " 170 150 133  54 104  99 106   4 169  13  73 204 187  34  82 105  67  69\n",
            "  73 204 168  41  83 103 134 183 117 104 188  86 112 103  12 198 123 150\n",
            "  83  20  81 103   3 130 140  95  61  31 105  49 100 110  79  27  37 120\n",
            " 203 111  99  42 145   8  75   2 204 143 129 128  76  62  43 166 201  56\n",
            " 119   1  91  79 180 116 129  93]\n",
            "continuous\n",
            "multiclass\n",
            "multiclass\n"
          ],
          "name": "stdout"
        }
      ]
    },
    {
      "cell_type": "code",
      "metadata": {
        "id": "zWla7k0S006M",
        "colab_type": "code",
        "colab": {}
      },
      "source": [
        "from sklearn.ensemble import GradientBoostingClassifier\n",
        "\n",
        "GB = GradientBoostingClassifier()\n",
        "GB.fit(x_train, training_scores_encoded)\n",
        "Y_pred = GB.predict(x_test)"
      ],
      "execution_count": 0,
      "outputs": []
    },
    {
      "cell_type": "markdown",
      "metadata": {
        "id": "reflKuDWbgug",
        "colab_type": "text"
      },
      "source": [
        "Evaluate the performance"
      ]
    },
    {
      "cell_type": "code",
      "metadata": {
        "id": "G2t1qbkO03S5",
        "colab_type": "code",
        "outputId": "4cf68070-e60f-4ef6-89cd-30239d4c3bd7",
        "colab": {
          "base_uri": "https://localhost:8080/",
          "height": 85
        }
      },
      "source": [
        "from sklearn.metrics import mean_absolute_error, r2_score\n",
        "mae = mean_absolute_error(y_test, Y_pred)\n",
        "r2=r2_score(Y_test, Y_pred)\n",
        "print(\"The model performance for baseline model is:\")\n",
        "print(\"---------------------------------------------\")\n",
        "print('mean absoulte error is {}'.format(mae))\n",
        "print('R2 score is {}'.format(r2))"
      ],
      "execution_count": 0,
      "outputs": [
        {
          "output_type": "stream",
          "text": [
            "The model performance for baseline model is:\n",
            "---------------------------------------------\n",
            "mean absoulte error is 93.69607843137256\n",
            "R2 score is -94.17887137450938\n"
          ],
          "name": "stdout"
        }
      ]
    },
    {
      "cell_type": "markdown",
      "metadata": {
        "id": "XKNo4L46Zhi8",
        "colab_type": "text"
      },
      "source": [
        "## Hyperparameter Tuning"
      ]
    },
    {
      "cell_type": "code",
      "metadata": {
        "id": "TPu0QtYH3Q3c",
        "colab_type": "code",
        "colab": {}
      },
      "source": [
        "param_grid = {\n",
        "    'learning_rate': [0.1, 0.2],\n",
        "    'n_estimators': [100, 200]\n",
        "}"
      ],
      "execution_count": 0,
      "outputs": []
    },
    {
      "cell_type": "code",
      "metadata": {
        "id": "_oRIMEqK3Tbk",
        "colab_type": "code",
        "outputId": "2cb749bd-b950-4f07-a3cc-24a00750a9e6",
        "colab": {
          "base_uri": "https://localhost:8080/",
          "height": 122
        }
      },
      "source": [
        "from sklearn.model_selection import GridSearchCV\n",
        "GB = GradientBoostingClassifier()\n",
        "grid_search = GridSearchCV(estimator = GB, param_grid = param_grid, \n",
        "                          cv = 3, n_jobs = -1, verbose = 2)\n",
        "grid_search.fit(x_train, training_scores_encoded);"
      ],
      "execution_count": 0,
      "outputs": [
        {
          "output_type": "stream",
          "text": [
            "Fitting 3 folds for each of 4 candidates, totalling 12 fits\n"
          ],
          "name": "stdout"
        },
        {
          "output_type": "stream",
          "text": [
            "/usr/local/lib/python3.6/dist-packages/sklearn/model_selection/_split.py:667: UserWarning: The least populated class in y has only 1 members, which is less than n_splits=3.\n",
            "  % (min_groups, self.n_splits)), UserWarning)\n",
            "[Parallel(n_jobs=-1)]: Using backend LokyBackend with 2 concurrent workers.\n",
            "[Parallel(n_jobs=-1)]: Done  12 out of  12 | elapsed:  5.6min finished\n"
          ],
          "name": "stderr"
        }
      ]
    },
    {
      "cell_type": "code",
      "metadata": {
        "id": "P8tIz9qm3MnE",
        "colab_type": "code",
        "outputId": "15c4a11a-ae92-4aad-80e9-f51a7b2a1251",
        "colab": {
          "base_uri": "https://localhost:8080/",
          "height": 187
        }
      },
      "source": [
        "best_grid = grid_search.best_estimator_\n",
        "best_grid"
      ],
      "execution_count": 0,
      "outputs": [
        {
          "output_type": "execute_result",
          "data": {
            "text/plain": [
              "GradientBoostingClassifier(ccp_alpha=0.0, criterion='friedman_mse', init=None,\n",
              "                           learning_rate=0.1, loss='deviance', max_depth=3,\n",
              "                           max_features=None, max_leaf_nodes=None,\n",
              "                           min_impurity_decrease=0.0, min_impurity_split=None,\n",
              "                           min_samples_leaf=1, min_samples_split=2,\n",
              "                           min_weight_fraction_leaf=0.0, n_estimators=100,\n",
              "                           n_iter_no_change=None, presort='deprecated',\n",
              "                           random_state=None, subsample=1.0, tol=0.0001,\n",
              "                           validation_fraction=0.1, verbose=0,\n",
              "                           warm_start=False)"
            ]
          },
          "metadata": {
            "tags": []
          },
          "execution_count": 54
        }
      ]
    },
    {
      "cell_type": "code",
      "metadata": {
        "id": "F2ilf2EA3NRL",
        "colab_type": "code",
        "colab": {}
      },
      "source": [
        "y_pred_gridsearch = best_grid.predict(x_test)"
      ],
      "execution_count": 0,
      "outputs": []
    },
    {
      "cell_type": "code",
      "metadata": {
        "id": "JVOCTP0G3ZYl",
        "colab_type": "code",
        "outputId": "26f285c0-79ef-443f-d296-eb776c96edeb",
        "colab": {
          "base_uri": "https://localhost:8080/",
          "height": 102
        }
      },
      "source": [
        "mae_gridsearch = mean_absolute_error(y_test, y_pred_gridsearch)\n",
        "r2_gridsearch=r2_score(y_test, y_pred_gridsearch)\n",
        "print(\"The model performance for testing set from grid search\")\n",
        "print(\"--------------------------------------\")\n",
        "print('mean absoulte error is {}'.format(mae_gridsearch))\n",
        "print('R2 score is {}'.format(r2_gridsearch))\n",
        "print('Improvement of {:0.2f}%.'.format( 100 * (r2_gridsearch- r2) / r2))"
      ],
      "execution_count": 0,
      "outputs": [
        {
          "output_type": "stream",
          "text": [
            "The model performance for testing set from grid search\n",
            "--------------------------------------\n",
            "mean absoulte error is 94.25490196078431\n",
            "R2 score is -27678.37386443046\n",
            "Improvement of 29289.15%.\n"
          ],
          "name": "stdout"
        }
      ]
    },
    {
      "cell_type": "code",
      "metadata": {
        "id": "h-2YMKkS3dh8",
        "colab_type": "code",
        "colab": {}
      },
      "source": [
        ""
      ],
      "execution_count": 0,
      "outputs": []
    }
  ]
}